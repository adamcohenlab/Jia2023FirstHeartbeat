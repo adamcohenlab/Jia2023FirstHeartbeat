{
 "cells": [
  {
   "cell_type": "code",
   "execution_count": 3,
   "metadata": {},
   "outputs": [],
   "source": [
    "from pathlib import Path\n",
    "import sys\n",
    "import os\n",
    "SPIKECOUNTER_PATH = os.getenv(\"SPIKECOUNTER_PATH\")\n",
    "sys.path.append(SPIKECOUNTER_PATH)\n",
    "\n",
    "import matplotlib.pyplot as plt\n",
    "from matplotlib import patches, lines\n",
    "import matplotlib as mpl\n",
    "import matplotlib.cm as cmaps\n",
    "import matplotlib.colors as colors\n",
    "from matplotlib import gridspec\n",
    "import colorcet as cc\n",
    "import re\n",
    "\n",
    "from scipy import interpolate, signal, stats, optimize, ndimage\n",
    "import scipy.io as scio\n",
    "import numpy as np\n",
    "import os\n",
    "import skimage.io as skio\n",
    "from skimage import measure, draw, transform, exposure\n",
    "\n",
    "import pickle\n",
    "import seaborn as sbs\n",
    "from parse import *\n",
    "import seaborn as sns\n",
    "\n",
    "from spikecounter.analysis import traces, images\n",
    "from spikecounter import utils\n",
    "from spikecounter.ui import visualize\n",
    "from spikecounter.analysis import stats as sc_stats\n",
    "from sklearn import neighbors\n",
    "import lmfit\n",
    "from cycler import cycler\n",
    "import pandas as pd\n",
    "import importlib\n",
    "from statannotations.Annotator import Annotator\n",
    "pubstyle_path = os.path.join(os.getenv(\"SPIKECOUNTER_PATH\"), \"config\", \"bio_publications.mplstyle\")\n",
    "plt.style.use(\n",
    "    pubstyle_path\n",
    ")"
   ]
  },
  {
   "cell_type": "code",
   "execution_count": 4,
   "metadata": {},
   "outputs": [],
   "source": [
    "output_datadir = Path(os.getenv(\"ANALYSIS_OUTPUT_ROOTDIR\"), \"2022 First Heartbeat_Submitted/Figures/Data/Figure5/gtacr_silencing\")\n",
    "os.makedirs(output_datadir, exist_ok=True)"
   ]
  },
  {
   "cell_type": "code",
   "execution_count": 5,
   "metadata": {},
   "outputs": [],
   "source": [
    "all_data = pd.read_csv(output_datadir.parent/\"gtacr_roi_data.csv\")\n",
    "embryo_data = pd.read_csv(output_datadir.parent/\"gtacr_embryo_data.csv\")"
   ]
  },
  {
   "cell_type": "code",
   "execution_count": 6,
   "metadata": {},
   "outputs": [],
   "source": [
    "def generate_ratios(all_data):\n",
    "    all_data[\"during_before_ratio_a\"] = all_data[\"amplitude_during\"]/all_data[\"amplitude_before\"]\n",
    "    all_data[\"during_before_ratio_f\"] = all_data[\"freq_during\"]/all_data[\"freq_before\"]\n",
    "    all_data[\"during_before_ratio_mf\"] = all_data[\"median_freq_during\"]/all_data[\"median_freq_before\"]\n",
    "    try:\n",
    "        all_data[\"during_before_ratio_a_pk\"] = all_data[\"pk_amp_during\"]/all_data[\"pk_amp_before\"]\n",
    "        all_data[\"during_before_ratio_pf\"] = all_data[\"pk_freq_during\"]/all_data[\"pk_freq_before\"]\n",
    "        all_data[\"pwr_ratio_before_pk\"] = all_data[\"amplitude_during\"]/all_data[\"during_pwr_before_pk\"]\n",
    "    except Exception as e:\n",
    "        pass"
   ]
  },
  {
   "cell_type": "code",
   "execution_count": 15,
   "metadata": {},
   "outputs": [],
   "source": [
    "# generate_ratios(all_data)\n",
    "# generate_ratios(embryo_data)\n",
    "all_data[\"date\"] = [re.search(\"\\d+(?=_)\", expt).group(0) for expt in all_data[\"expt\"].tolist()]\n",
    "embryo_data[\"date\"] = [re.search(\"\\d+(?=_)\", expt).group(0) for expt in embryo_data[\"expt\"].tolist()]\n",
    "\n",
    "labels = list(all_data[\"roi\"] == all_data[\"target\"])\n",
    "labels = [\"+\" if l else \"-\" for l in labels]\n",
    "all_data[\"is_target\"] = labels"
   ]
  },
  {
   "cell_type": "markdown",
   "metadata": {},
   "source": [
    "### Selected data"
   ]
  },
  {
   "cell_type": "markdown",
   "metadata": {},
   "source": [
    "old - 34 trials, new - 40 trials"
   ]
  },
  {
   "cell_type": "code",
   "execution_count": null,
   "metadata": {},
   "outputs": [],
   "source": []
  },
  {
   "cell_type": "code",
   "execution_count": 8,
   "metadata": {},
   "outputs": [],
   "source": [
    "keep_experiments = [\"105213E4_silencing_target8_1V_OD0\"] +\\\n",
    "[\"102209E16_silencing_target1\",\"102002E16_silencing_target2\",\\\n",
    " \"102551E16_silencing_target3\", \"112511E18_target1\",\\\n",
    " \"113159E18_target3_1V\", \"113312E18_target3_0.7V\",\\\n",
    " \"113430E18_target2_0.7V\",\\\n",
    " \"115854E8_target3\", \"115726E8_target2\", \"120018E8_target2_2V\"] + \\\n",
    "[\"113033gtacr_E4_target1\", \"114001gtacr_E4_target4_1V\",\\\n",
    "\"114120gtacr_E4_target2_1V\", \"114257gtacr_E4_target3_1V\",\\\n",
    " \"114756gtacr_E4_target3_1.5V\",\"120620gtacr_E3_target1_2V\",\\\n",
    " \"120840gtacr_E3_target2_2V\", \"121100gtacr_E3_target3_2V\"] + \\\n",
    "[\"095746E1_target1_1V\", \"100123E1_target2_1V\",\\\n",
    "\"104048E7_target1_3V\", \"104542E7_target2_3V\", \"104713E7_target3_3V\",\\\n",
    "\"112554E8_target1_2V\",\"112920E8_target2_2V\",\"113048_E8_target3_2V\",\\\n",
    "\"113205E8_target4_2V\"] + \\\n",
    " [\"082618E3_silencing_target1\", \"085721E4_silencing_target2_1.5V\",\\\n",
    "\"085512E4_silencing_target1_1.5V\",\"085834E4_silencing_target3_1.5V\",\\\n",
    "\"085954E4_silencing_target4_1.5V\", \"093238E6_target2\", \"093624E6_target4\",\\\n",
    "\"094631E7_target1\", \"094838E7_target2\", \"095017E7_target3\", \"095220E7_target4\",\\\n",
    "\"095345E7_target5\"]"
   ]
  },
  {
   "cell_type": "code",
   "execution_count": 10,
   "metadata": {},
   "outputs": [
    {
     "data": {
      "text/plain": [
       "(184, 39)"
      ]
     },
     "execution_count": 10,
     "metadata": {},
     "output_type": "execute_result"
    }
   ],
   "source": [
    "all_data.shape"
   ]
  },
  {
   "cell_type": "code",
   "execution_count": 9,
   "metadata": {},
   "outputs": [
    {
     "data": {
      "text/plain": [
       "40"
      ]
     },
     "execution_count": 9,
     "metadata": {},
     "output_type": "execute_result"
    }
   ],
   "source": [
    "len(keep_experiments)"
   ]
  },
  {
   "cell_type": "code",
   "execution_count": 7,
   "metadata": {},
   "outputs": [],
   "source": [
    "# discard_experiments = [\"112800E18_target1_0.5V\",\n",
    "#             \"115726E8_target2\", \"120205E8_target3_1V\",\"120344E8_target3_2V\",\n",
    "#                 \"120518E8_target3_0.5V\",\"105012gtacr_E12_silencing_target1\",\n",
    "#             \"105205gtacr_E12_silencing_target2\",\n",
    "#             \"110025gtacr_E12_silencing_target4\",\n",
    "#             \"113033gtacr_E4_target1\",\n",
    "#                 \"114120gtacr_E4_target2_1V\",\"114001gtacr_E4_target4_1V\",\n",
    "#             \"114432gtacr_E4_target3_2V\", \"114756gtacr_E4_target3_1.5V\", \n",
    "#             \"120114gtacr_E3_target1\", \"120307gtacr_E3_target1_1.5V\",\n",
    "#                 \"120439gtacr_E3_target1_1.75V\",\n",
    "#                       \"121311gtacr_E3_target4_2V\", \"121436gtacr_E3_target5_2V\",\n",
    "#                 \"121635gtacr_E3_target6_2V\", \"121944gtacr_E3_target7_2V\",\n",
    "#                       \"093545E2_target1_silence\", \"093352E2_target1_silence\",\n",
    "#             \"100727E1_target2_1.5V\", \"100922E1_target2_2V\",\n",
    "#             \"103634E7_target1_2V\", \"103831E7_target1_2.5V\",\n",
    "#             \"104320E7_target1_3.5V\", \"104930E7_target1and2_3V\"]\n",
    "# # \"093754E2_target1_silence_4V\""
   ]
  },
  {
   "cell_type": "code",
   "execution_count": 11,
   "metadata": {},
   "outputs": [],
   "source": [
    "selected_roi_data = all_data.loc[all_data[\\\n",
    "                    \"file_name\"].isin(keep_experiments)].copy().reset_index()\n",
    "selected_embryo_data = embryo_data.loc[embryo_data[\\\n",
    "                    \"file_name\"].isin(keep_experiments)].copy().reset_index()\n",
    "del(selected_roi_data[\"index\"])\n",
    "del(selected_embryo_data[\"index\"])"
   ]
  },
  {
   "cell_type": "code",
   "execution_count": 8,
   "metadata": {},
   "outputs": [],
   "source": [
    "loi_data = pd.read_csv(os.path.join(rootdir, \"loi_measurements.csv\"))\n",
    "loi_by_expt = loi_data.set_index([\"file_name\", \"silence\"])\n",
    "um_per_px = 0.265*4"
   ]
  },
  {
   "cell_type": "code",
   "execution_count": 9,
   "metadata": {},
   "outputs": [],
   "source": [
    "selected_roi_data[\"dist_target_to_loi_before\"] = np.nan\n",
    "selected_roi_data[\"dist_target_to_loi_during\"] = np.nan\n",
    "selected_roi_data[\"loi_jump\"] = np.nan\n",
    "selected_embryo_data[\"dist_target_to_loi_before\"] = np.nan\n",
    "selected_embryo_data[\"dist_target_to_loi_during\"] = np.nan\n",
    "selected_embryo_data[\"loi_jump\"] = np.nan\n",
    "\n",
    "\n",
    "for i in range(selected_roi_data.shape[0]):\n",
    "    xbefore, ybefore = loi_by_expt.loc[selected_roi_data.iloc[i\\\n",
    "                                    ][\"file_name\"],\"before\"][[\\\n",
    "                                        \"loi_x_dv\", \"loi_y_dv\"]]\n",
    "    target_y, target_x = selected_roi_data.iloc[i][[\"target_y\", \"target_x\"]]\n",
    "    dist_before = ((target_y-ybefore)**2 + (target_x-xbefore)**2)**0.5*um_per_px\n",
    "    xduring, yduring  = loi_by_expt.loc[selected_roi_data.iloc[i\\\n",
    "                                    ][\"file_name\"],\"during\"][[\\\n",
    "                                        \"loi_x_dv\", \"loi_y_dv\"]]\n",
    "    dist_during = ((target_y-yduring)**2 + (target_x-xduring)**2)**0.5*um_per_px\n",
    "    selected_roi_data.at[i, \\\n",
    "            \"dist_target_to_loi_before\"]=dist_before\n",
    "    selected_roi_data.at[i, \\\n",
    "            \"dist_target_to_loi_during\"]=dist_during\n",
    "    selected_roi_data.at[i, \\\n",
    "            \"loi_jump\"] = ((xduring-xbefore)**2 +\\\n",
    "                            (yduring-ybefore)**2)**0.5*um_per_px\n",
    "    \n",
    "for i in range(selected_embryo_data.shape[0]):\n",
    "    fname = selected_embryo_data.iloc[i][\"file_name\"]\n",
    "    xbefore, ybefore = loi_by_expt.loc[fname,\"before\"][[\\\n",
    "                                        \"loi_x_dv\", \"loi_y_dv\"]]\n",
    "    target_y, target_x = selected_embryo_data.iloc[i][[\"target_y\", \"target_x\"]]\n",
    "    dist_before = ((target_y-ybefore)**2 + (target_x-xbefore)**2)**0.5*um_per_px\n",
    "    xduring, yduring  = loi_by_expt.loc[fname,\"during\"][[\\\n",
    "                                        \"loi_x_dv\", \"loi_y_dv\"]]\n",
    "    dist_during = ((target_y-yduring)**2 + (target_x-xduring)**2)**0.5*um_per_px\n",
    "    selected_embryo_data.at[i, \\\n",
    "            \"dist_target_to_loi_before\"]=dist_before\n",
    "    selected_embryo_data.at[i, \\\n",
    "            \"dist_target_to_loi_during\"]=dist_during\n",
    "    selected_embryo_data.at[i, \\\n",
    "            \"loi_jump\"] = ((xduring-xbefore)**2 +\\\n",
    "                            (yduring-ybefore)**2)**0.5*um_per_px"
   ]
  },
  {
   "cell_type": "code",
   "execution_count": 70,
   "metadata": {},
   "outputs": [
    {
     "data": {
      "text/plain": [
       "(array([18., 23., 21., 25., 22., 28., 25., 12.,  2.,  3.]),\n",
       " array([0.        , 0.11582595, 0.2316519 , 0.34747785, 0.46330379,\n",
       "        0.57912974, 0.69495569, 0.81078164, 0.92660759, 1.04243354,\n",
       "        1.15825949]),\n",
       " <BarContainer object of 10 artists>)"
      ]
     },
     "execution_count": 70,
     "metadata": {},
     "output_type": "execute_result"
    },
    {
     "data": {
      "image/png": "[encoded data removed]",
      "text/plain": [
       "<Figure size 237.6x180 with 1 Axes>"
      ]
     },
     "metadata": {
      "needs_background": "light"
     },
     "output_type": "display_data"
    }
   ],
   "source": [
    "# plt.hist(, bins=np.linspace(0, 2, 100))\n",
    "plt.hist(selected_roi_data[\"during_before_ratio_a_pk\"])"
   ]
  },
  {
   "cell_type": "code",
   "execution_count": 17,
   "metadata": {},
   "outputs": [
    {
     "name": "stdout",
     "output_type": "stream",
     "text": [
      "Targeted ROIS:  39\n",
      "Untargeted ROIS:  140\n"
     ]
    }
   ],
   "source": [
    "print(\"Targeted ROIS: \", np.sum(selected_average_data[\"is_target\"] == \"+\"))\n",
    "print(\"Untargeted ROIS: \", np.sum(selected_average_data[\"is_target\"] == \"-\"))"
   ]
  },
  {
   "cell_type": "code",
   "execution_count": 155,
   "metadata": {},
   "outputs": [
    {
     "data": {
      "text/plain": [
       "<AxesSubplot:xlabel='target_dist', ylabel='during_before_ratio_a_pk'>"
      ]
     },
     "execution_count": 155,
     "metadata": {},
     "output_type": "execute_result"
    },
    {
     "data": {
      "image/png": "[encoded data removed]",
      "text/plain": [
       "<Figure size 288x288 with 1 Axes>"
      ]
     },
     "metadata": {
      "needs_background": "light"
     },
     "output_type": "display_data"
    }
   ],
   "source": [
    "x = \"target_dist\"\n",
    "y = \"during_before_ratio_a_pk\"\n",
    "fig1, ax1 = plt.subplots(figsize=(4,4))\n",
    "sns.scatterplot(data=selected_roi_data, x=x,y=y)"
   ]
  },
  {
   "cell_type": "code",
   "execution_count": 31,
   "metadata": {},
   "outputs": [
    {
     "name": "stdout",
     "output_type": "stream",
     "text": [
      "p-value annotation legend:\n",
      "      ns: p <= 1.00e+00\n",
      "       *: 1.00e-02 < p <= 5.00e-02\n",
      "      **: 1.00e-03 < p <= 1.00e-02\n",
      "     ***: 1.00e-04 < p <= 1.00e-03\n",
      "    ****: p <= 1.00e-04\n",
      "\n",
      "- vs. +: Mann-Whitney-Wilcoxon test greater, P_val:7.525e-09 U_stat=4.350e+03\n"
     ]
    },
    {
     "data": {
      "image/png": "[encoded data removed]",
      "text/plain": [
       "<Figure size 108x122.4 with 1 Axes>"
      ]
     },
     "metadata": {
      "needs_background": "light"
     },
     "output_type": "display_data"
    }
   ],
   "source": [
    "x = \"is_target\"\n",
    "y = \"during_before_ratio_a_pk\"\n",
    "cs = [\"#DD7784\", \"#51779D\"]\n",
    "fig1, ax1 = plt.subplots(figsize=(1.5,1.7))\n",
    "sns.boxplot(data=selected_roi_data, x=x, y=y,\\\n",
    "            ax=ax1, order=[\"-\", \"+\"], palette = cs)\n",
    "ax1.set_ylabel(r\"$A_{during}/A_{before}$\")\n",
    "ax1.set_xlabel(\"Blue light\")\n",
    "# ax1.set_ylim(0, 1)\n",
    "pairs = [(\"-\", \"+\")]\n",
    "\n",
    "annot = Annotator(ax1, pairs, data=selected_roi_data, x=x,y=y)\n",
    "annot.configure(test=\"Mann-Whitney-gt\", verbose=2, loc=\"outside\")\n",
    "annot.apply_and_annotate()\n",
    "plt.tight_layout()\n",
    "fig1.savefig(output_datadir/\"illumination_amplitude_shift.svg\", dpi=300, bbox_inches=\"tight\")"
   ]
  },
  {
   "cell_type": "code",
   "execution_count": 190,
   "metadata": {},
   "outputs": [
    {
     "name": "stdout",
     "output_type": "stream",
     "text": [
      "p-value annotation legend:\n",
      "      ns: p <= 1.00e+00\n",
      "       *: 1.00e-02 < p <= 5.00e-02\n",
      "      **: 1.00e-03 < p <= 1.00e-02\n",
      "     ***: 1.00e-04 < p <= 1.00e-03\n",
      "    ****: p <= 1.00e-04\n",
      "\n",
      "- vs. +: Mann-Whitney-Wilcoxon test greater, P_val:7.525e-09 U_stat=4.350e+03\n"
     ]
    },
    {
     "data": {
      "image/png": "[encoded data removed]",
      "text/plain": [
       "<Figure size 100.8x151.2 with 1 Axes>"
      ]
     },
     "metadata": {
      "needs_background": "light"
     },
     "output_type": "display_data"
    }
   ],
   "source": [
    "x = \"is_target\"\n",
    "y = \"during_before_ratio_a_pk\"\n",
    "fig1, ax1 = plt.subplots(figsize=(2*0.7,3*0.7))\n",
    "sns.boxplot(data=selected_roi_data, x=x, y=y,\\\n",
    "            ax=ax1, order=[\"-\", \"+\"])\n",
    "ax1.set_ylabel(r\"$A_{during}/A_{before}$\")\n",
    "ax1.set_xlabel(\"Blue illumination\")\n",
    "# ax1.set_ylim(0, 1)\n",
    "pairs = [(\"-\", \"+\")]\n",
    "\n",
    "annot = Annotator(ax1, pairs, data=selected_roi_data, x=x,y=y)\n",
    "annot.configure(test=\"Mann-Whitney-gt\", verbose=2, loc=\"outside\")\n",
    "annot.apply_and_annotate()\n",
    "plt.tight_layout()\n",
    "plt.savefig(os.path.join(figdir, \"Figure5\", \"illumination_amplitude_shift.svg\"))"
   ]
  },
  {
   "cell_type": "code",
   "execution_count": 92,
   "metadata": {},
   "outputs": [],
   "source": [
    "xdata = selected_average_data[\"target_dist\"].to_numpy()\n",
    "ydata = selected_average_data[\"during_before_ratio_a_pk\"].to_numpy()\n",
    "invalid = np.isnan(xdata) | np.isnan(ydata)\n",
    "xdata = xdata[~invalid]\n",
    "ydata = ydata[~invalid]\n",
    "res = stats.linregress(xdata, ydata)\n"
   ]
  },
  {
   "cell_type": "code",
   "execution_count": 37,
   "metadata": {
    "scrolled": true
   },
   "outputs": [
    {
     "data": {
      "text/plain": [
       "Index(['roi', 'target', 'target_y', 'target_x', 'target_dist', 'area',\n",
       "       'amplitude_before', 'amplitude_during', 'amplitude_after',\n",
       "       'pk_amp_before', 'pk_amp_during', 'pk_amp_after', 'freq_before',\n",
       "       'freq_during', 'freq_after', 'median_freq_before', 'median_freq_during',\n",
       "       'median_freq_after', 'during_pwr_before_pk', 'after_pwr_before_pk',\n",
       "       'pk_freq_before', 'pk_freq_during', 'pk_freq_after', 'embryo',\n",
       "       'file_name', 'expt', 'during_before_ratio_a', 'during_before_ratio_f',\n",
       "       'during_before_ratio_mf', 'during_before_ratio_a_pk',\n",
       "       'during_before_ratio_pf', 'pwr_ratio_before_pk', 'date', 'is_target',\n",
       "       'dist_target_to_loi_before', 'dist_target_to_loi_during', 'loi_jump'],\n",
       "      dtype='object')"
      ]
     },
     "execution_count": 37,
     "metadata": {},
     "output_type": "execute_result"
    }
   ],
   "source": [
    "selected_roi_data.columns"
   ]
  },
  {
   "cell_type": "code",
   "execution_count": 38,
   "metadata": {},
   "outputs": [],
   "source": [
    "indexed_roi_data = selected_roi_data.set_index([\"expt\", \"embryo\", \"target\"])"
   ]
  },
  {
   "cell_type": "code",
   "execution_count": 43,
   "metadata": {},
   "outputs": [],
   "source": [
    "indexed_roi_data[\"a_ratio_normalized\"] = np.nan"
   ]
  },
  {
   "cell_type": "code",
   "execution_count": null,
   "metadata": {},
   "outputs": [],
   "source": [
    "for expt, embryo, target in indexed_roi_data.index.unique():\n",
    "    trial_roi_data = indexed_roi_data.loc[expt, embryo, target]\n",
    "    target_mask = trial_roi_data[\"roi\"].to_numpy() == target\n",
    "    target_mask[np.argwhere(target_mask).ravel()[0]+1:] = False\n",
    "    ref_value = trial_roi_data[target_mask][\"during_before_ratio_a_pk\"]\n",
    "#     print(ref_value)\n",
    "    trial_roi_data[\"a_ratio_normalized\"] = trial_roi_data[\"during_before_ratio_a_pk\"] - ref_value\n",
    "#     print(indexed_roi_data.loc[expt,embryo,target])\n",
    "#     norm_val = indexed_roi_data.loc[expt,embryo,target][[\"roi\"] ==target][\"during_before_ratio_a_pk\"]\n",
    "#     indexed_roi_data.loc[expt,embryo][\"a_ratio\"]"
   ]
  },
  {
   "cell_type": "code",
   "execution_count": 67,
   "metadata": {},
   "outputs": [],
   "source": [
    "selected_roi_data = indexed_roi_data.reset_index()"
   ]
  },
  {
   "cell_type": "code",
   "execution_count": 68,
   "metadata": {},
   "outputs": [
    {
     "name": "stdout",
     "output_type": "stream",
     "text": [
      "LinregressResult(slope=0.004549115376198322, intercept=0.01567681060046458, rvalue=0.5480672399919515, pvalue=2.011215491520542e-15, stderr=0.0005218411194136654, intercept_stderr=0.02630166050642137)\n"
     ]
    },
    {
     "data": {
      "text/plain": [
       "Text(0.5, 0, 'Distance from illuminated spot ($\\\\mathrm{\\\\mu}$m)')"
      ]
     },
     "execution_count": 68,
     "metadata": {},
     "output_type": "execute_result"
    },
    {
     "data": {
      "image/png": "[encoded data removed]",
      "text/plain": [
       "<Figure size 216x144 with 1 Axes>"
      ]
     },
     "metadata": {
      "needs_background": "light"
     },
     "output_type": "display_data"
    }
   ],
   "source": [
    "y=\"a_ratio_normalized\"\n",
    "x=\"target_dist\"\n",
    "\n",
    "xdata = selected_roi_data[x].to_numpy()\n",
    "ydata = selected_roi_data[y].to_numpy()\n",
    "valid = np.isfinite(xdata) & np.isfinite(ydata)\n",
    "xdata = xdata[valid]\n",
    "ydata = ydata[valid]\n",
    "res = stats.linregress(xdata, ydata)\n",
    "print(res)\n",
    "xfit = np.linspace(0, 100, 100)\n",
    "yfit = res.slope*xfit + res.intercept\n",
    "fig1, ax1 = plt.subplots(figsize=(3,2))\n",
    "sns.scatterplot(data=selected_roi_data, x=x, y=y,\\\n",
    "        ax=ax1, s=8)\n",
    "ax1.plot(xfit, yfit, \"k\")\n",
    "ax1.set_ylabel(r\"$A_{during}/A_{before}$\")\n",
    "ax1.set_xlabel(r\"Distance from illuminated spot ($\\mathrm{\\mu}$m)\")"
   ]
  },
  {
   "cell_type": "code",
   "execution_count": 215,
   "metadata": {},
   "outputs": [
    {
     "name": "stdout",
     "output_type": "stream",
     "text": [
      "LinregressResult(slope=0.004870224040040903, intercept=0.2709068295054128, rvalue=0.5416857701865568, pvalue=4.8811503675722056e-15, stderr=0.0005680603571999453, intercept_stderr=0.028631186977018743)\n"
     ]
    },
    {
     "data": {
      "image/png": "[encoded data removed]",
      "text/plain": [
       "<Figure size 216x144 with 1 Axes>"
      ]
     },
     "metadata": {
      "needs_background": "light"
     },
     "output_type": "display_data"
    }
   ],
   "source": [
    "y=\"during_before_ratio_a_pk\"\n",
    "x=\"target_dist\"\n",
    "\n",
    "xdata = selected_roi_data[x].to_numpy()\n",
    "ydata = selected_roi_data[y].to_numpy()\n",
    "valid = np.isfinite(xdata) & np.isfinite(ydata)\n",
    "xdata = xdata[valid]\n",
    "ydata = ydata[valid]\n",
    "res = stats.linregress(xdata, ydata)\n",
    "print(res)\n",
    "xfit = np.linspace(0, 100, 100)\n",
    "yfit = res.slope*xfit + res.intercept\n",
    "fig1, ax1 = plt.subplots(figsize=(3,2))\n",
    "sns.scatterplot(data=selected_roi_data, x=x, y=y,\\\n",
    "        ax=ax1, s=8)\n",
    "ax1.plot(xfit, yfit, \"k\")\n",
    "ax1.set_ylabel(r\"$A_{during}/A_{before}$\")\n",
    "ax1.set_xlabel(r\"Distance from illuminated spot ($\\mathrm{\\mu}$m)\")\n",
    "plt.savefig(os.path.join(figdir, \"Figure4\", \"amplitude_vs_distance_from_illum.svg\"))"
   ]
  },
  {
   "cell_type": "code",
   "execution_count": 213,
   "metadata": {},
   "outputs": [
    {
     "data": {
      "text/plain": [
       "Index(['roi', 'target', 'target_y', 'target_x', 'target_dist', 'area',\n",
       "       'amplitude_before', 'amplitude_during', 'amplitude_after',\n",
       "       'pk_amp_before', 'pk_amp_during', 'pk_amp_after', 'freq_before',\n",
       "       'freq_during', 'freq_after', 'median_freq_before', 'median_freq_during',\n",
       "       'median_freq_after', 'during_pwr_before_pk', 'after_pwr_before_pk',\n",
       "       'pk_freq_before', 'pk_freq_during', 'pk_freq_after', 'embryo',\n",
       "       'file_name', 'expt', 'during_before_ratio_a', 'during_before_ratio_f',\n",
       "       'during_before_ratio_mf', 'during_before_ratio_a_pk',\n",
       "       'during_before_ratio_pf', 'pwr_ratio_before_pk', 'date', 'is_target',\n",
       "       'dist_target_to_loi_before', 'dist_target_to_loi_during', 'loi_jump'],\n",
       "      dtype='object')"
      ]
     },
     "execution_count": 213,
     "metadata": {},
     "output_type": "execute_result"
    }
   ],
   "source": [
    "selected_roi_data.columns"
   ]
  },
  {
   "cell_type": "code",
   "execution_count": 210,
   "metadata": {},
   "outputs": [
    {
     "data": {
      "text/plain": [
       "0        4\n",
       "1       34\n",
       "2       32\n",
       "3       60\n",
       "4       62\n",
       "      ... \n",
       "179    166\n",
       "180    182\n",
       "181    177\n",
       "182    153\n",
       "183    152\n",
       "Name: during_before_ratio_a, Length: 184, dtype: int64"
      ]
     },
     "execution_count": 210,
     "metadata": {},
     "output_type": "execute_result"
    }
   ],
   "source": [
    "np.argsort(-selected_roi_data[\"during_before_ratio_a\"])"
   ]
  },
  {
   "cell_type": "code",
   "execution_count": 206,
   "metadata": {},
   "outputs": [
    {
     "name": "stdout",
     "output_type": "stream",
     "text": [
      "LinregressResult(slope=0.005016267622579659, intercept=0.7543430436443762, rvalue=0.3637217732928255, pvalue=0.02283860277591652, stderr=0.0021120147889307373, intercept_stderr=0.10672330725247428)\n"
     ]
    },
    {
     "data": {
      "image/png": "[encoded data removed]",
      "text/plain": [
       "<Figure size 216x144 with 1 Axes>"
      ]
     },
     "metadata": {
      "needs_background": "light"
     },
     "output_type": "display_data"
    }
   ],
   "source": [
    "y=\"during_before_ratio_mf\"\n",
    "x=\"dist_target_to_loi_before\"\n",
    "xdata = selected_embryo_data[x].to_numpy()\n",
    "ydata = selected_embryo_data[y].to_numpy()\n",
    "valid = np.isfinite(xdata) & np.isfinite(ydata)\n",
    "xdata = xdata[valid]\n",
    "ydata = ydata[valid]\n",
    "res = stats.linregress(xdata, ydata)\n",
    "print(res)\n",
    "xfit = np.linspace(0, 100, 100)\n",
    "yfit = res.slope*xfit + res.intercept\n",
    "fig1, ax1 = plt.subplots(figsize=(3,2))\n",
    "sns.scatterplot(data=selected_embryo_data, x=x, y=y,\\\n",
    "        ax=ax1, s=10)\n",
    "ax1.plot(xfit, yfit, \"k\")\n",
    "ax1.set_ylabel(r\"$f_{during}/f_{before}$\")\n",
    "ax1.set_xlabel(r\"LOI-target distance ($\\mathrm{\\mu}$m)\")\n",
    "plt.savefig(os.path.join(figdir, \"Figure4\", \"silencing_frequency_loi_distance.svg\"))"
   ]
  },
  {
   "cell_type": "code",
   "execution_count": 16,
   "metadata": {},
   "outputs": [
    {
     "data": {
      "image/png": "[encoded data removed]",
      "text/plain": [
       "<Figure size 432x288 with 1 Axes>"
      ]
     },
     "metadata": {
      "needs_background": "light"
     },
     "output_type": "display_data"
    },
    {
     "data": {
      "image/png": "[encoded data removed]",
      "text/plain": [
       "<Figure size 432x288 with 1 Axes>"
      ]
     },
     "metadata": {
      "needs_background": "light"
     },
     "output_type": "display_data"
    }
   ],
   "source": [
    "quantiles = np.arange(10, 90, step=5)\n",
    "x = \"dist_target_to_loi_before\"\n",
    "y = \"during_before_ratio_mf\"\n",
    "p = np.zeros_like(quantiles, dtype=float)\n",
    "\n",
    "ts = np.zeros_like(quantiles, dtype=float)\n",
    "for idx, q in enumerate(quantiles):\n",
    "    threshold = np.nanpercentile(selected_embryo_data[x], q)\n",
    "    mask = selected_embryo_data[x] < threshold\n",
    "    a = selected_embryo_data[mask][y].to_numpy()\n",
    "    b = selected_embryo_data[~mask][y].to_numpy()\n",
    "    res = stats.mannwhitneyu(a, b)\n",
    "    p[idx] = res.pvalue\n",
    "    ts[idx] = threshold\n",
    "fig1, ax1 = plt.subplots(figsize=(6,4))\n",
    "ax1.plot(quantiles, p)\n",
    "ax1.set_yscale(\"log\")\n",
    "fig1, ax1 = plt.subplots(figsize=(6,4))\n",
    "ax1.plot(ts, p)\n",
    "ax1.set_yscale(\"log\")"
   ]
  },
  {
   "cell_type": "code",
   "execution_count": 185,
   "metadata": {},
   "outputs": [
    {
     "data": {
      "image/png": "[encoded data removed]",
      "text/plain": [
       "<Figure size 432x288 with 1 Axes>"
      ]
     },
     "metadata": {
      "needs_background": "light"
     },
     "output_type": "display_data"
    }
   ],
   "source": []
  },
  {
   "cell_type": "code",
   "execution_count": 17,
   "metadata": {},
   "outputs": [
    {
     "name": "stdout",
     "output_type": "stream",
     "text": [
      "n expts LOI targeted:  19\n"
     ]
    }
   ],
   "source": [
    "threshold = np.nanpercentile(selected_embryo_data[\"dist_target_to_loi_before\"], 50)\n",
    "loi_target = selected_embryo_data[\"dist_target_to_loi_before\"] < threshold\n",
    "print(\"n expts LOI targeted: \", np.sum(selected_embryo_data[\"dist_target_to_loi_before\"] < threshold))\n",
    "labels = [\"LOI\" if l else \"Not LOI\" for l in loi_target]\n",
    "selected_embryo_data[\"loi_target\"] = labels"
   ]
  },
  {
   "cell_type": "code",
   "execution_count": 28,
   "metadata": {},
   "outputs": [
    {
     "name": "stdout",
     "output_type": "stream",
     "text": [
      "p-value annotation legend:\n",
      "      ns: p <= 1.00e+00\n",
      "       *: 1.00e-02 < p <= 5.00e-02\n",
      "      **: 1.00e-03 < p <= 1.00e-02\n",
      "     ***: 1.00e-04 < p <= 1.00e-03\n",
      "    ****: p <= 1.00e-04\n",
      "\n",
      "LOI vs. Not LOI: Mann-Whitney-Wilcoxon test two-sided, P_val:7.725e-03 U_stat=9.500e+01\n"
     ]
    },
    {
     "data": {
      "image/png": "[encoded data removed]",
      "text/plain": [
       "<Figure size 108x133.2 with 1 Axes>"
      ]
     },
     "metadata": {
      "needs_background": "light"
     },
     "output_type": "display_data"
    }
   ],
   "source": [
    "plt.style.use(pubstyle_path)\n",
    "x=\"loi_target\"\n",
    "y=\"during_before_ratio_f\"\n",
    "fig1, ax1 = plt.subplots(figsize=(1.5,1.85))\n",
    "order  = [\"Not LOI\", \"LOI\"]\n",
    "# arr1 = selected_embryo_data[selected_embryo_data[x] == order[0]][y]\n",
    "# arr2 = selected_embryo_data[selected_embryo_data[x] == order[0]][y]\n",
    "# ax1.boxplot([arr1, arr2])\n",
    "\n",
    "cs = [np.array([0,204,0,255])/255, np.array([121,67,142,255])/255]\n",
    "sns.boxplot(data=selected_embryo_data, x=x, y=y,ax=ax1, order=order,boxprops={\n",
    "        \"facecolor\": \"w\",\n",
    "})\n",
    "sns.swarmplot(data=selected_embryo_data, x=x, y=y,ax=ax1, order=order, palette = cs,\n",
    "    dodge = True, size=3)\n",
    "ax1.set_ylim(-0.1, 2)\n",
    "ax1.set_xlabel(\"Target\")\n",
    "ax1.set_xticklabels([\"Not\\nLOI\", \"LOI\"])\n",
    "ax1.set_ylabel(r\"$f_{during}/f_{before}$\")\n",
    "pairs = [(\"Not LOI\", \"LOI\")]\n",
    "# for patch, color in zip(bplot['boxes'], cs):\n",
    "#     patch.set_facecolor(color)\n",
    "\n",
    "annot = Annotator(ax1, pairs, data=selected_embryo_data, x=x,y=y)\n",
    "annot.configure(test=\"Mann-Whitney\", verbose=2, loc=\"outside\")\n",
    "annot.apply_and_annotate()\n",
    "plt.tight_layout()\n",
    "fig1.savefig(output_datadir/\"frequency_loi_silencing.svg\", dpi=300, bbox_inches=\"tight\")"
   ]
  },
  {
   "cell_type": "code",
   "execution_count": 30,
   "metadata": {},
   "outputs": [
    {
     "name": "stdout",
     "output_type": "stream",
     "text": [
      "p-value annotation legend:\n",
      "      ns: p <= 1.00e+00\n",
      "       *: 1.00e-02 < p <= 5.00e-02\n",
      "      **: 1.00e-03 < p <= 1.00e-02\n",
      "     ***: 1.00e-04 < p <= 1.00e-03\n",
      "    ****: p <= 1.00e-04\n",
      "\n",
      "LOI vs. Not LOI: Mann-Whitney-Wilcoxon test two-sided, P_val:1.995e-03 U_stat=3.005e+02\n"
     ]
    },
    {
     "data": {
      "image/png": "[encoded data removed]",
      "text/plain": [
       "<Figure size 108x133.2 with 1 Axes>"
      ]
     },
     "metadata": {
      "needs_background": "light"
     },
     "output_type": "display_data"
    }
   ],
   "source": [
    "plt.style.use(pubstyle_path)\n",
    "x=\"loi_target\"\n",
    "y=\"loi_jump\"\n",
    "fig1, ax1 = plt.subplots(figsize=(1.5,1.85))\n",
    "order  = [\"Not LOI\", \"LOI\"]\n",
    "# arr1 = selected_embryo_data[selected_embryo_data[x] == order[0]][y]\n",
    "# arr2 = selected_embryo_data[selected_embryo_data[x] == order[0]][y]\n",
    "# ax1.boxplot([arr1, arr2])\n",
    "\n",
    "cs = [np.array([0,204,0,255])/255, np.array([121,67,142,255])/255]\n",
    "sns.boxplot(data=selected_embryo_data, x=x, y=y,ax=ax1, order=order,boxprops={\n",
    "        \"facecolor\": \"w\",\n",
    "}, fliersize=0)\n",
    "sns.swarmplot(data=selected_embryo_data, x=x, y=y,ax=ax1, order=order, palette = cs,\n",
    "    dodge = True, size=3)\n",
    "# ax1.set_ylim(-0.1, 2)\n",
    "ax1.set_xlabel(\"Target\")\n",
    "ax1.set_xticklabels([\"Not\\nLOI\", \"LOI\"])\n",
    "ax1.set_ylabel(r\"LOI displacement ($\\mathrm{\\mu}$m)\")\n",
    "pairs = [(\"Not LOI\", \"LOI\")]\n",
    "# for patch, color in zip(bplot['boxes'], cs):\n",
    "#     patch.set_facecolor(color)\n",
    "\n",
    "annot = Annotator(ax1, pairs, data=selected_embryo_data, x=x,y=y)\n",
    "annot.configure(test=\"Mann-Whitney\", verbose=2, loc=\"outside\")\n",
    "annot.apply_and_annotate()\n",
    "plt.tight_layout()\n",
    "fig1.savefig(output_datadir/\"displacement_loi_silencing.svg\", dpi=300, bbox_inches=\"tight\")"
   ]
  },
  {
   "cell_type": "code",
   "execution_count": 70,
   "metadata": {},
   "outputs": [
    {
     "name": "stdout",
     "output_type": "stream",
     "text": [
      "p-value annotation legend:\n",
      "      ns: p <= 1.00e+00\n",
      "       *: 1.00e-02 < p <= 5.00e-02\n",
      "      **: 1.00e-03 < p <= 1.00e-02\n",
      "     ***: 1.00e-04 < p <= 1.00e-03\n",
      "    ****: p <= 1.00e-04\n",
      "\n",
      "LOI vs. Not LOI: Mann-Whitney-Wilcoxon test two-sided, P_val:1.995e-03 U_stat=3.005e+02\n"
     ]
    },
    {
     "data": {
      "image/png": "[encoded data removed]",
      "text/plain": [
       "<Figure size 172.8x252 with 1 Axes>"
      ]
     },
     "metadata": {
      "needs_background": "light"
     },
     "output_type": "display_data"
    }
   ],
   "source": [
    "with plt.style.context(\"../bio_pubs_presentation.mplstyle\"):\n",
    "    x=\"loi_target\"\n",
    "    y=\"loi_jump\"\n",
    "    fig1, ax1 = plt.subplots(figsize=(2.4,3.5))\n",
    "    cs = [np.array([0,204,0,255])/255, np.array([121,67,142,255])/255]\n",
    "    sns.boxplot(data=selected_embryo_data, x=x, y=y,ax=ax1, order=[\"Not LOI\", \"LOI\"], palette=cs)\n",
    "#     ax1.set_ylim(-0.1, 2)\n",
    "    ax1.set_xlabel(\"Target\")\n",
    "    ax1.set_ylabel(r\"LOI displacement ($\\mathrm{\\mu}$m)\")\n",
    "\n",
    "    pairs = [(\"Not LOI\", \"LOI\")]\n",
    "\n",
    "    annot = Annotator(ax1, pairs, data=selected_embryo_data, x=x,y=y)\n",
    "    annot.configure(test=\"Mann-Whitney\", verbose=2, loc=\"outside\")\n",
    "    annot.apply_and_annotate()\n",
    "    plt.tight_layout()\n",
    "    plt.savefig(os.path.join(figdir, \"Figure4\", \"POSTER_loi_jump_median.svg\"))"
   ]
  },
  {
   "cell_type": "code",
   "execution_count": 35,
   "metadata": {},
   "outputs": [
    {
     "name": "stdout",
     "output_type": "stream",
     "text": [
      "p-value annotation legend:\n",
      "      ns: p <= 1.00e+00\n",
      "       *: 1.00e-02 < p <= 5.00e-02\n",
      "      **: 1.00e-03 < p <= 1.00e-02\n",
      "     ***: 1.00e-04 < p <= 1.00e-03\n",
      "    ****: p <= 1.00e-04\n",
      "\n",
      "LOI vs. Not LOI: Mann-Whitney-Wilcoxon test two-sided, P_val:1.995e-03 U_stat=3.005e+02\n"
     ]
    },
    {
     "data": {
      "image/png": "[encoded data removed]",
      "text/plain": [
       "<Figure size 115.2x151.2 with 1 Axes>"
      ]
     },
     "metadata": {
      "needs_background": "light"
     },
     "output_type": "display_data"
    }
   ],
   "source": [
    "x=\"loi_target\"\n",
    "y=\"loi_jump\"\n",
    "fig1, ax1 = plt.subplots(figsize=(2*0.8,3*0.7))\n",
    "order  = [\"Not LOI\", \"LOI\"]\n",
    "# arr1 = selected_embryo_data[selected_embryo_data[x] == order[0]][y]\n",
    "# arr2 = selected_embryo_data[selected_embryo_data[x] == order[0]][y]\n",
    "# ax1.boxplot([arr1, arr2])\n",
    "\n",
    "cs = [np.array([0,204,0,255])/255, np.array([121,67,142,255])/255]\n",
    "sns.boxplot(data=selected_embryo_data, x=x, y=y,ax=ax1, order=[\"Not LOI\", \"LOI\"], palette=cs)\n",
    "\n",
    "ax1.set_xlabel(\"Target\")\n",
    "ax1.set_ylabel(r\"LOI displacement ($\\mathrm{\\mu}$m)\")\n",
    "\n",
    "pairs = [(\"Not LOI\", \"LOI\")]\n",
    "\n",
    "annot = Annotator(ax1, pairs, data=selected_embryo_data, x=x,y=y)\n",
    "annot.configure(test=\"Mann-Whitney\", verbose=2, loc=\"outside\")\n",
    "annot.apply_and_annotate()\n",
    "plt.tight_layout()\n",
    "plt.savefig(os.path.join(figdir, \"Figure4\", \"loi_position_shift_median.svg\"))"
   ]
  },
  {
   "cell_type": "code",
   "execution_count": null,
   "metadata": {},
   "outputs": [],
   "source": [
    "x=\"loi_target\"\n",
    "y=\"loi_jump\"\n",
    "fig1, ax1 = plt.subplots(figsize=(2*0.8,3*0.7))\n",
    "order  = [\"Not LOI\", \"LOI\"]\n",
    "# arr1 = selected_embryo_data[selected_embryo_data[x] == order[0]][y]\n",
    "# arr2 = selected_embryo_data[selected_embryo_data[x] == order[0]][y]\n",
    "# ax1.boxplot([arr1, arr2])\n",
    "\n",
    "cs = [np.array([0,204,0,255])/255, np.array([121,67,142,255])/255]\n",
    "sns.boxplot(data=selected_embryo_data, x=x, y=y,ax=ax1, order=[\"Not LOI\", \"LOI\"], palette=cs)\n",
    "\n",
    "pairs = [(\"Not LOI\", \"LOI\")]\n",
    "\n",
    "annot = Annotator(ax1, pairs, data=selected_embryo_data, x=x,y=y)\n",
    "annot.configure(test=\"Mann-Whitney\", verbose=2, loc=\"outside\")\n",
    "annot.apply_and_annotate()\n",
    "plt.tight_layout()\n",
    "plt.savefig(os.path.join(figdir, \"Figure4\", \"loi_position_shift_median.svg\"))"
   ]
  },
  {
   "cell_type": "code",
   "execution_count": 227,
   "metadata": {},
   "outputs": [
    {
     "name": "stdout",
     "output_type": "stream",
     "text": [
      "LinregressResult(slope=-0.6280345928099884, intercept=77.73613398171219, rvalue=-0.4505562540063519, pvalue=0.0039977550658849385, stderr=0.2045797231411027, intercept_stderr=10.337723374308268)\n"
     ]
    },
    {
     "data": {
      "image/png": "[encoded data removed]",
      "text/plain": [
       "<Figure size 216x144 with 1 Axes>"
      ]
     },
     "metadata": {
      "needs_background": "light"
     },
     "output_type": "display_data"
    }
   ],
   "source": [
    "y=\"loi_jump\"\n",
    "x=\"dist_target_to_loi_before\"\n",
    "xdata = selected_embryo_data[x].to_numpy()\n",
    "ydata = selected_embryo_data[y].to_numpy()\n",
    "invalid = np.isnan(xdata) | np.isnan(ydata)\n",
    "xdata = xdata[~invalid]\n",
    "ydata = ydata[~invalid]\n",
    "res = stats.linregress(xdata, ydata)\n",
    "fig1, ax1 = plt.subplots(figsize=(3,2))\n",
    "sns.scatterplot(data=selected_embryo_data, x=x, y=y,\\\n",
    "        ax=ax1, s=8)\n",
    "ax1.set_ylabel(r\"LOI shift ($\\mathrm{\\mu}$m)\")\n",
    "ax1.set_xlabel(r\"LOI-target distance ($\\mathrm{\\mu}$m)\")\n",
    "xfit = np.linspace(0, 100, 100)\n",
    "yfit = res.slope*xfit + res.intercept\n",
    "plt.plot(xfit, yfit, color=\"k\")\n",
    "# ax1.set_ylim((0,1))\n",
    "print(res)\n",
    "plt.savefig(os.path.join(figdir, \"Figure4\", \"LOI_shift_vs_target_distance.svg\"))"
   ]
  },
  {
   "cell_type": "markdown",
   "metadata": {},
   "source": [
    "### Plot with bins by LOI-target distance"
   ]
  },
  {
   "cell_type": "code",
   "execution_count": 236,
   "metadata": {},
   "outputs": [],
   "source": [
    "bin_edges = np.nanpercentile(unique_expt_data[\"dist_target_to_loi_before\"], np.linspace(0,100,7))"
   ]
  },
  {
   "cell_type": "code",
   "execution_count": 237,
   "metadata": {},
   "outputs": [
    {
     "data": {
      "text/plain": [
       "array([  7.76413094,  20.20550368,  34.76078348,  47.43854275,\n",
       "        54.19818842,  63.06687137, 106.90590574])"
      ]
     },
     "execution_count": 237,
     "metadata": {},
     "output_type": "execute_result"
    }
   ],
   "source": [
    "bin_edges"
   ]
  },
  {
   "cell_type": "code",
   "execution_count": 238,
   "metadata": {},
   "outputs": [],
   "source": [
    "# bin_edges = [0,15,25,35,45,48,55,60,65,100]\n",
    "xs = [(bin_edges[i]+bin_edges[i+1])/2 for i in range(len(bin_edges)-1)]\n",
    "bin_dfs = []\n",
    "for idx in range(len(bin_edges)-1):\n",
    "    loi_target_dist = selected_average_data[\"dist_target_to_loi_before\"]\n",
    "    mask = (loi_target_dist < bin_edges[idx+1]) & (loi_target_dist >= bin_edges[idx])\n",
    "    bin_dfs.append(selected_average_data[mask])\n",
    "    "
   ]
  },
  {
   "cell_type": "code",
   "execution_count": 239,
   "metadata": {},
   "outputs": [
    {
     "name": "stdout",
     "output_type": "stream",
     "text": [
      "[7, 6, 6, 7, 6, 6]\n"
     ]
    },
    {
     "data": {
      "image/png": "[encoded data removed]",
      "text/plain": [
       "<Figure size 432x288 with 1 Axes>"
      ]
     },
     "metadata": {
      "needs_background": "light"
     },
     "output_type": "display_data"
    }
   ],
   "source": [
    "ys = []\n",
    "n_samples = []\n",
    "fig1, ax1 = plt.subplots(figsize=(6,4))\n",
    "for bdf in bin_dfs:\n",
    "    unique_bdf = bdf[bdf[\"roi\"] == bdf[\"target\"]]\n",
    "    ys.append(np.nanmean(unique_bdf[\"loi_jump\"].to_numpy()))\n",
    "    n_samples.append(unique_bdf.shape[0])\n",
    "ax1.scatter(xs, ys)\n",
    "print(n_samples)"
   ]
  },
  {
   "cell_type": "code",
   "execution_count": 226,
   "metadata": {},
   "outputs": [
    {
     "data": {
      "text/plain": [
       "38"
      ]
     },
     "execution_count": 226,
     "metadata": {},
     "output_type": "execute_result"
    }
   ],
   "source": [
    "np.sum(n_samples)"
   ]
  },
  {
   "cell_type": "code",
   "execution_count": null,
   "metadata": {},
   "outputs": [],
   "source": []
  },
  {
   "cell_type": "code",
   "execution_count": 240,
   "metadata": {},
   "outputs": [
    {
     "name": "stdout",
     "output_type": "stream",
     "text": [
      "[25, 20, 27, 21, 23, 25]\n"
     ]
    },
    {
     "data": {
      "image/png": "[encoded data removed]",
      "text/plain": [
       "<Figure size 432x288 with 1 Axes>"
      ]
     },
     "metadata": {
      "needs_background": "light"
     },
     "output_type": "display_data"
    }
   ],
   "source": [
    "ys = []\n",
    "n_samples = []\n",
    "fig1, ax1 = plt.subplots(figsize=(6,4))\n",
    "for bdf in bin_dfs:\n",
    "    unique_bdf = bdf[bdf[\"roi\"] != bdf[\"target\"]]\n",
    "    ys.append(np.nanmean(unique_bdf[\"during_before_ratio_f\"].to_numpy()))\n",
    "    n_samples.append(unique_bdf.shape[0])\n",
    "ax1.scatter(xs, ys)\n",
    "print(n_samples)"
   ]
  },
  {
   "cell_type": "markdown",
   "metadata": {},
   "source": [
    "### Dynamic calculation of LOI"
   ]
  },
  {
   "cell_type": "code",
   "execution_count": 265,
   "metadata": {},
   "outputs": [
    {
     "data": {
      "text/html": [
       "<div>\n",
       "<style scoped>\n",
       "    .dataframe tbody tr th:only-of-type {\n",
       "        vertical-align: middle;\n",
       "    }\n",
       "\n",
       "    .dataframe tbody tr th {\n",
       "        vertical-align: top;\n",
       "    }\n",
       "\n",
       "    .dataframe thead th {\n",
       "        text-align: right;\n",
       "    }\n",
       "</style>\n",
       "<table border=\"1\" class=\"dataframe\">\n",
       "  <thead>\n",
       "    <tr style=\"text-align: right;\">\n",
       "      <th></th>\n",
       "      <th>roi</th>\n",
       "      <th>target</th>\n",
       "      <th>target_y</th>\n",
       "      <th>target_x</th>\n",
       "      <th>target_dist</th>\n",
       "      <th>area</th>\n",
       "      <th>amplitude_before</th>\n",
       "      <th>amplitude_during</th>\n",
       "      <th>amplitude_after</th>\n",
       "      <th>pk_amp_before</th>\n",
       "      <th>...</th>\n",
       "      <th>embryo</th>\n",
       "      <th>file_name</th>\n",
       "      <th>expt</th>\n",
       "      <th>during_before_ratio_a_pk</th>\n",
       "      <th>during_before_ratio_a</th>\n",
       "      <th>during_before_ratio_f</th>\n",
       "      <th>during_before_ratio_mf</th>\n",
       "      <th>pwr_ratio_before_pk</th>\n",
       "      <th>date</th>\n",
       "      <th>is_target</th>\n",
       "    </tr>\n",
       "  </thead>\n",
       "  <tbody>\n",
       "    <tr>\n",
       "      <th>0</th>\n",
       "      <td>0.0</td>\n",
       "      <td>0</td>\n",
       "      <td>100.025658</td>\n",
       "      <td>106.522219</td>\n",
       "      <td>0.000000</td>\n",
       "      <td>9159.0</td>\n",
       "      <td>13.391149</td>\n",
       "      <td>0.006420</td>\n",
       "      <td>18.432469</td>\n",
       "      <td>0.016255</td>\n",
       "      <td>...</td>\n",
       "      <td>4</td>\n",
       "      <td>102247E4_silencing_4V_OD0_target1</td>\n",
       "      <td>20220212_gtacr_targeted_silencing</td>\n",
       "      <td>0.044005</td>\n",
       "      <td>0.000479</td>\n",
       "      <td>0.173570</td>\n",
       "      <td>2.603556</td>\n",
       "      <td>12.794441</td>\n",
       "      <td>20220212</td>\n",
       "      <td>+</td>\n",
       "    </tr>\n",
       "    <tr>\n",
       "      <th>1</th>\n",
       "      <td>1.0</td>\n",
       "      <td>0</td>\n",
       "      <td>100.025658</td>\n",
       "      <td>106.522219</td>\n",
       "      <td>4.086872</td>\n",
       "      <td>768.0</td>\n",
       "      <td>220.774979</td>\n",
       "      <td>1.284266</td>\n",
       "      <td>244.392157</td>\n",
       "      <td>0.060976</td>\n",
       "      <td>...</td>\n",
       "      <td>4</td>\n",
       "      <td>102247E4_silencing_4V_OD0_target1</td>\n",
       "      <td>20220212_gtacr_targeted_silencing</td>\n",
       "      <td>0.025690</td>\n",
       "      <td>0.005817</td>\n",
       "      <td>0.086785</td>\n",
       "      <td>0.086785</td>\n",
       "      <td>509.888827</td>\n",
       "      <td>20220212</td>\n",
       "      <td>-</td>\n",
       "    </tr>\n",
       "    <tr>\n",
       "      <th>2</th>\n",
       "      <td>2.0</td>\n",
       "      <td>0</td>\n",
       "      <td>100.025658</td>\n",
       "      <td>106.522219</td>\n",
       "      <td>35.367870</td>\n",
       "      <td>1109.0</td>\n",
       "      <td>80.010854</td>\n",
       "      <td>1.024239</td>\n",
       "      <td>116.215700</td>\n",
       "      <td>0.040053</td>\n",
       "      <td>...</td>\n",
       "      <td>4</td>\n",
       "      <td>102247E4_silencing_4V_OD0_target1</td>\n",
       "      <td>20220212_gtacr_targeted_silencing</td>\n",
       "      <td>0.074426</td>\n",
       "      <td>0.012801</td>\n",
       "      <td>0.086785</td>\n",
       "      <td>0.173570</td>\n",
       "      <td>30.034549</td>\n",
       "      <td>20220212</td>\n",
       "      <td>-</td>\n",
       "    </tr>\n",
       "    <tr>\n",
       "      <th>3</th>\n",
       "      <td>3.0</td>\n",
       "      <td>0</td>\n",
       "      <td>100.025658</td>\n",
       "      <td>106.522219</td>\n",
       "      <td>34.478410</td>\n",
       "      <td>1065.0</td>\n",
       "      <td>73.391431</td>\n",
       "      <td>0.043826</td>\n",
       "      <td>60.612920</td>\n",
       "      <td>0.036510</td>\n",
       "      <td>...</td>\n",
       "      <td>4</td>\n",
       "      <td>102247E4_silencing_4V_OD0_target1</td>\n",
       "      <td>20220212_gtacr_targeted_silencing</td>\n",
       "      <td>0.056807</td>\n",
       "      <td>0.000597</td>\n",
       "      <td>0.260356</td>\n",
       "      <td>3.905334</td>\n",
       "      <td>10.385804</td>\n",
       "      <td>20220212</td>\n",
       "      <td>-</td>\n",
       "    </tr>\n",
       "    <tr>\n",
       "      <th>4</th>\n",
       "      <td>4.0</td>\n",
       "      <td>0</td>\n",
       "      <td>100.025658</td>\n",
       "      <td>106.522219</td>\n",
       "      <td>102.297811</td>\n",
       "      <td>629.0</td>\n",
       "      <td>3.011911</td>\n",
       "      <td>0.680838</td>\n",
       "      <td>2.444909</td>\n",
       "      <td>0.000521</td>\n",
       "      <td>...</td>\n",
       "      <td>4</td>\n",
       "      <td>102247E4_silencing_4V_OD0_target1</td>\n",
       "      <td>20220212_gtacr_targeted_silencing</td>\n",
       "      <td>1.778648</td>\n",
       "      <td>0.226048</td>\n",
       "      <td>1.388563</td>\n",
       "      <td>1.388563</td>\n",
       "      <td>1.000000</td>\n",
       "      <td>20220212</td>\n",
       "      <td>-</td>\n",
       "    </tr>\n",
       "    <tr>\n",
       "      <th>...</th>\n",
       "      <td>...</td>\n",
       "      <td>...</td>\n",
       "      <td>...</td>\n",
       "      <td>...</td>\n",
       "      <td>...</td>\n",
       "      <td>...</td>\n",
       "      <td>...</td>\n",
       "      <td>...</td>\n",
       "      <td>...</td>\n",
       "      <td>...</td>\n",
       "      <td>...</td>\n",
       "      <td>...</td>\n",
       "      <td>...</td>\n",
       "      <td>...</td>\n",
       "      <td>...</td>\n",
       "      <td>...</td>\n",
       "      <td>...</td>\n",
       "      <td>...</td>\n",
       "      <td>...</td>\n",
       "      <td>...</td>\n",
       "      <td>...</td>\n",
       "    </tr>\n",
       "    <tr>\n",
       "      <th>555</th>\n",
       "      <td>0.0</td>\n",
       "      <td>4</td>\n",
       "      <td>143.203947</td>\n",
       "      <td>133.457237</td>\n",
       "      <td>44.467886</td>\n",
       "      <td>300.0</td>\n",
       "      <td>126.449434</td>\n",
       "      <td>32.677287</td>\n",
       "      <td>87.496545</td>\n",
       "      <td>0.082782</td>\n",
       "      <td>...</td>\n",
       "      <td>8</td>\n",
       "      <td>113317E8_target5_2V</td>\n",
       "      <td>20220407_gtacr_silencing</td>\n",
       "      <td>0.829918</td>\n",
       "      <td>0.258422</td>\n",
       "      <td>1.202590</td>\n",
       "      <td>1.030792</td>\n",
       "      <td>1.441227</td>\n",
       "      <td>20220407</td>\n",
       "      <td>-</td>\n",
       "    </tr>\n",
       "    <tr>\n",
       "      <th>556</th>\n",
       "      <td>1.0</td>\n",
       "      <td>4</td>\n",
       "      <td>143.203947</td>\n",
       "      <td>133.457237</td>\n",
       "      <td>57.358866</td>\n",
       "      <td>300.0</td>\n",
       "      <td>41.927954</td>\n",
       "      <td>15.990084</td>\n",
       "      <td>36.642881</td>\n",
       "      <td>0.056570</td>\n",
       "      <td>...</td>\n",
       "      <td>8</td>\n",
       "      <td>113317E8_target5_2V</td>\n",
       "      <td>20220407_gtacr_silencing</td>\n",
       "      <td>0.886962</td>\n",
       "      <td>0.381370</td>\n",
       "      <td>1.202590</td>\n",
       "      <td>1.030792</td>\n",
       "      <td>1.504457</td>\n",
       "      <td>20220407</td>\n",
       "      <td>-</td>\n",
       "    </tr>\n",
       "    <tr>\n",
       "      <th>557</th>\n",
       "      <td>2.0</td>\n",
       "      <td>4</td>\n",
       "      <td>143.203947</td>\n",
       "      <td>133.457237</td>\n",
       "      <td>23.972034</td>\n",
       "      <td>293.0</td>\n",
       "      <td>37.871040</td>\n",
       "      <td>5.801575</td>\n",
       "      <td>28.078298</td>\n",
       "      <td>0.048043</td>\n",
       "      <td>...</td>\n",
       "      <td>8</td>\n",
       "      <td>113317E8_target5_2V</td>\n",
       "      <td>20220407_gtacr_silencing</td>\n",
       "      <td>0.632413</td>\n",
       "      <td>0.153193</td>\n",
       "      <td>0.858993</td>\n",
       "      <td>1.202590</td>\n",
       "      <td>1.132383</td>\n",
       "      <td>20220407</td>\n",
       "      <td>-</td>\n",
       "    </tr>\n",
       "    <tr>\n",
       "      <th>558</th>\n",
       "      <td>3.0</td>\n",
       "      <td>4</td>\n",
       "      <td>143.203947</td>\n",
       "      <td>133.457237</td>\n",
       "      <td>33.324597</td>\n",
       "      <td>293.0</td>\n",
       "      <td>102.899934</td>\n",
       "      <td>20.363615</td>\n",
       "      <td>71.367684</td>\n",
       "      <td>0.074724</td>\n",
       "      <td>...</td>\n",
       "      <td>8</td>\n",
       "      <td>113317E8_target5_2V</td>\n",
       "      <td>20220407_gtacr_silencing</td>\n",
       "      <td>0.713255</td>\n",
       "      <td>0.197897</td>\n",
       "      <td>1.202590</td>\n",
       "      <td>1.202590</td>\n",
       "      <td>1.369965</td>\n",
       "      <td>20220407</td>\n",
       "      <td>-</td>\n",
       "    </tr>\n",
       "    <tr>\n",
       "      <th>559</th>\n",
       "      <td>4.0</td>\n",
       "      <td>4</td>\n",
       "      <td>143.203947</td>\n",
       "      <td>133.457237</td>\n",
       "      <td>0.000000</td>\n",
       "      <td>304.0</td>\n",
       "      <td>3.370963</td>\n",
       "      <td>0.625462</td>\n",
       "      <td>2.215745</td>\n",
       "      <td>0.015635</td>\n",
       "      <td>...</td>\n",
       "      <td>8</td>\n",
       "      <td>113317E8_target5_2V</td>\n",
       "      <td>20220407_gtacr_silencing</td>\n",
       "      <td>0.499916</td>\n",
       "      <td>0.185544</td>\n",
       "      <td>0.858993</td>\n",
       "      <td>1.202590</td>\n",
       "      <td>2.574845</td>\n",
       "      <td>20220407</td>\n",
       "      <td>+</td>\n",
       "    </tr>\n",
       "  </tbody>\n",
       "</table>\n",
       "<p>560 rows × 30 columns</p>\n",
       "</div>"
      ],
      "text/plain": [
       "     roi  target    target_y    target_x  target_dist    area  \\\n",
       "0    0.0       0  100.025658  106.522219     0.000000  9159.0   \n",
       "1    1.0       0  100.025658  106.522219     4.086872   768.0   \n",
       "2    2.0       0  100.025658  106.522219    35.367870  1109.0   \n",
       "3    3.0       0  100.025658  106.522219    34.478410  1065.0   \n",
       "4    4.0       0  100.025658  106.522219   102.297811   629.0   \n",
       "..   ...     ...         ...         ...          ...     ...   \n",
       "555  0.0       4  143.203947  133.457237    44.467886   300.0   \n",
       "556  1.0       4  143.203947  133.457237    57.358866   300.0   \n",
       "557  2.0       4  143.203947  133.457237    23.972034   293.0   \n",
       "558  3.0       4  143.203947  133.457237    33.324597   293.0   \n",
       "559  4.0       4  143.203947  133.457237     0.000000   304.0   \n",
       "\n",
       "     amplitude_before  amplitude_during  amplitude_after  pk_amp_before  ...  \\\n",
       "0           13.391149          0.006420        18.432469       0.016255  ...   \n",
       "1          220.774979          1.284266       244.392157       0.060976  ...   \n",
       "2           80.010854          1.024239       116.215700       0.040053  ...   \n",
       "3           73.391431          0.043826        60.612920       0.036510  ...   \n",
       "4            3.011911          0.680838         2.444909       0.000521  ...   \n",
       "..                ...               ...              ...            ...  ...   \n",
       "555        126.449434         32.677287        87.496545       0.082782  ...   \n",
       "556         41.927954         15.990084        36.642881       0.056570  ...   \n",
       "557         37.871040          5.801575        28.078298       0.048043  ...   \n",
       "558        102.899934         20.363615        71.367684       0.074724  ...   \n",
       "559          3.370963          0.625462         2.215745       0.015635  ...   \n",
       "\n",
       "     embryo                          file_name  \\\n",
       "0         4  102247E4_silencing_4V_OD0_target1   \n",
       "1         4  102247E4_silencing_4V_OD0_target1   \n",
       "2         4  102247E4_silencing_4V_OD0_target1   \n",
       "3         4  102247E4_silencing_4V_OD0_target1   \n",
       "4         4  102247E4_silencing_4V_OD0_target1   \n",
       "..      ...                                ...   \n",
       "555       8                113317E8_target5_2V   \n",
       "556       8                113317E8_target5_2V   \n",
       "557       8                113317E8_target5_2V   \n",
       "558       8                113317E8_target5_2V   \n",
       "559       8                113317E8_target5_2V   \n",
       "\n",
       "                                  expt  during_before_ratio_a_pk  \\\n",
       "0    20220212_gtacr_targeted_silencing                  0.044005   \n",
       "1    20220212_gtacr_targeted_silencing                  0.025690   \n",
       "2    20220212_gtacr_targeted_silencing                  0.074426   \n",
       "3    20220212_gtacr_targeted_silencing                  0.056807   \n",
       "4    20220212_gtacr_targeted_silencing                  1.778648   \n",
       "..                                 ...                       ...   \n",
       "555           20220407_gtacr_silencing                  0.829918   \n",
       "556           20220407_gtacr_silencing                  0.886962   \n",
       "557           20220407_gtacr_silencing                  0.632413   \n",
       "558           20220407_gtacr_silencing                  0.713255   \n",
       "559           20220407_gtacr_silencing                  0.499916   \n",
       "\n",
       "     during_before_ratio_a  during_before_ratio_f  during_before_ratio_mf  \\\n",
       "0                 0.000479               0.173570                2.603556   \n",
       "1                 0.005817               0.086785                0.086785   \n",
       "2                 0.012801               0.086785                0.173570   \n",
       "3                 0.000597               0.260356                3.905334   \n",
       "4                 0.226048               1.388563                1.388563   \n",
       "..                     ...                    ...                     ...   \n",
       "555               0.258422               1.202590                1.030792   \n",
       "556               0.381370               1.202590                1.030792   \n",
       "557               0.153193               0.858993                1.202590   \n",
       "558               0.197897               1.202590                1.202590   \n",
       "559               0.185544               0.858993                1.202590   \n",
       "\n",
       "     pwr_ratio_before_pk      date  is_target  \n",
       "0              12.794441  20220212          +  \n",
       "1             509.888827  20220212          -  \n",
       "2              30.034549  20220212          -  \n",
       "3              10.385804  20220212          -  \n",
       "4               1.000000  20220212          -  \n",
       "..                   ...       ...        ...  \n",
       "555             1.441227  20220407          -  \n",
       "556             1.504457  20220407          -  \n",
       "557             1.132383  20220407          -  \n",
       "558             1.369965  20220407          -  \n",
       "559             2.574845  20220407          +  \n",
       "\n",
       "[560 rows x 30 columns]"
      ]
     },
     "execution_count": 265,
     "metadata": {},
     "output_type": "execute_result"
    }
   ],
   "source": [
    "all_data"
   ]
  },
  {
   "cell_type": "code",
   "execution_count": 362,
   "metadata": {},
   "outputs": [],
   "source": [
    "selected_average = selected_average.set_index(\"file_name\")"
   ]
  },
  {
   "cell_type": "code",
   "execution_count": 363,
   "metadata": {
    "scrolled": true
   },
   "outputs": [
    {
     "name": "stdout",
     "output_type": "stream",
     "text": [
      "'105530E4_silencing_target9_1V_OD0_10Hz'\n",
      "'105530E4_silencing_target9_1V_OD0_10Hz'\n",
      "'105530E4_silencing_target9_1V_OD0_10Hz'\n",
      "'105530E4_silencing_target9_1V_OD0_10Hz'\n",
      "'105530E4_silencing_target9_1V_OD0_10Hz'\n",
      "'105530E4_silencing_target9_1V_OD0_10Hz'\n",
      "'105530E4_silencing_target9_1V_OD0_10Hz'\n",
      "'105530E4_silencing_target9_1V_OD0_10Hz'\n",
      "'105530E4_silencing_target9_1V_OD0_10Hz'\n",
      "'105530E4_silencing_target9_1V_OD0_10Hz'\n",
      "'105530E4_silencing_target9_1V_OD0_10Hz'\n",
      "'before'\n",
      "'before'\n",
      "'before'\n",
      "'before'\n",
      "'before'\n",
      "'before'\n",
      "'before'\n",
      "'before'\n",
      "'before'\n",
      "'before'\n",
      "'before'\n",
      "'105857E4_silencing_target10_2V_OD0_10Hz'\n",
      "'105857E4_silencing_target10_2V_OD0_10Hz'\n",
      "'105857E4_silencing_target10_2V_OD0_10Hz'\n",
      "'105857E4_silencing_target10_2V_OD0_10Hz'\n",
      "'105857E4_silencing_target10_2V_OD0_10Hz'\n",
      "'105857E4_silencing_target10_2V_OD0_10Hz'\n",
      "'105857E4_silencing_target10_2V_OD0_10Hz'\n",
      "'105857E4_silencing_target10_2V_OD0_10Hz'\n",
      "'105857E4_silencing_target10_2V_OD0_10Hz'\n",
      "'105857E4_silencing_target10_2V_OD0_10Hz'\n",
      "'105857E4_silencing_target10_2V_OD0_10Hz'\n",
      "'110111E4_silencing_target11_1V_OD0_10Hz'\n",
      "'110111E4_silencing_target11_1V_OD0_10Hz'\n",
      "'110111E4_silencing_target11_1V_OD0_10Hz'\n",
      "'110111E4_silencing_target11_1V_OD0_10Hz'\n",
      "'110111E4_silencing_target11_1V_OD0_10Hz'\n",
      "'110111E4_silencing_target11_1V_OD0_10Hz'\n",
      "'110111E4_silencing_target11_1V_OD0_10Hz'\n",
      "'110111E4_silencing_target11_1V_OD0_10Hz'\n",
      "'110111E4_silencing_target11_1V_OD0_10Hz'\n",
      "'110111E4_silencing_target11_1V_OD0_10Hz'\n",
      "'110111E4_silencing_target11_1V_OD0_10Hz'\n",
      "'before'\n",
      "'before'\n",
      "'before'\n",
      "'before'\n",
      "'before'\n",
      "'before'\n",
      "'before'\n",
      "'before'\n",
      "'before'\n",
      "'before'\n",
      "'before'\n",
      "'110528E4_silencing_target11_3V_OD0_10Hz'\n",
      "'110528E4_silencing_target11_3V_OD0_10Hz'\n",
      "'110528E4_silencing_target11_3V_OD0_10Hz'\n",
      "'110528E4_silencing_target11_3V_OD0_10Hz'\n",
      "'110528E4_silencing_target11_3V_OD0_10Hz'\n",
      "'110528E4_silencing_target11_3V_OD0_10Hz'\n",
      "'110528E4_silencing_target11_3V_OD0_10Hz'\n",
      "'110528E4_silencing_target11_3V_OD0_10Hz'\n",
      "'110528E4_silencing_target11_3V_OD0_10Hz'\n",
      "'110528E4_silencing_target11_3V_OD0_10Hz'\n",
      "'110528E4_silencing_target11_3V_OD0_10Hz'\n",
      "'before'\n",
      "'before'\n",
      "'before'\n",
      "'before'\n",
      "'before'\n",
      "'before'\n",
      "'before'\n",
      "'before'\n",
      "'before'\n",
      "'before'\n",
      "'before'\n",
      "'before'\n",
      "'before'\n",
      "'before'\n",
      "'before'\n",
      "'before'\n",
      "'before'\n"
     ]
    }
   ],
   "source": [
    "target_to_loi = []\n",
    "selected_average[\"dist_target_to_loi\"] = np.nan\n",
    "for i in range(all_data.shape[0]):\n",
    "    try:\n",
    "        loi_x, loi_y = loi_by_expt.loc[all_data.iloc[i][\"file_name\"], \"before\"][[\"loi_x_dv\", \"loi_y_dv\"]]\n",
    "        target_y, target_x = all_data.iloc[i][[\"target_y\", \"target_x\"]]\n",
    "        dist = ((target_y-loi_y)**2 + (target_x-loi_x)**2)**0.5\n",
    "        target_to_loi.append(dist)\n",
    "        if all_data.iloc[i][\"file_name\"] in list(selected_average.index.unique()):\n",
    "            selected_average.at[all_data.iloc[i][\"file_name\"], \"dist_target_to_loi\"]=dist\n",
    "    except Exception as e:\n",
    "        print(e)\n",
    "        target_to_loi.append(np.nan)\n",
    "all_data[\"dist_target_to_loi\"] = target_to_loi"
   ]
  },
  {
   "cell_type": "code",
   "execution_count": 274,
   "metadata": {},
   "outputs": [],
   "source": [
    "for expt, embryo_dict in loi_targets_by_expt_embryo.items():\n",
    "    data_single_expt = all_data_by_expt_embryo.loc[expt]\n",
    "    for embryo, loi_target in embryo_dict.items():\n",
    "        embryo_data = data_single_expt.loc[embryo].copy()\n",
    "        embryo_data[\"loi_target\"] = embryo_data[\"target\"] == loi_target\n",
    "        selected_embryo_data.append(embryo_data.reset_index())\n",
    "selected_data = pd.concat(selected_embryo_data, axis=0)"
   ]
  },
  {
   "cell_type": "code",
   "execution_count": 326,
   "metadata": {},
   "outputs": [],
   "source": [
    "threshold = 55\n",
    "selected_data[\"loi_target\"] = [\"+\" if l else \"-\" for l in \\\n",
    "                selected_data[\"dist_target_to_loi\"] < threshold]\n",
    "selected_average[\"loi_target\"] = [\"+\" if l else \"-\" for l in \\\n",
    "                selected_average[\"dist_target_to_loi\"] < threshold]"
   ]
  },
  {
   "cell_type": "code",
   "execution_count": 327,
   "metadata": {},
   "outputs": [
    {
     "name": "stdout",
     "output_type": "stream",
     "text": [
      "p-value annotation legend:\n",
      "      ns: p <= 1.00e+00\n",
      "       *: 1.00e-02 < p <= 5.00e-02\n",
      "      **: 1.00e-03 < p <= 1.00e-02\n",
      "     ***: 1.00e-04 < p <= 1.00e-03\n",
      "    ****: p <= 1.00e-04\n",
      "\n",
      "- vs. +: Mann-Whitney-Wilcoxon test smaller, P_val:8.097e-01 U_stat=2.600e+02\n"
     ]
    },
    {
     "data": {
      "image/png": "[encoded data removed]",
      "text/plain": [
       "<Figure size 100.8x151.2 with 1 Axes>"
      ]
     },
     "metadata": {
      "needs_background": "light"
     },
     "output_type": "display_data"
    }
   ],
   "source": [
    "x=\"loi_target\"\n",
    "y=\"during_before_ratio_f\"\n",
    "fig1, ax1 = plt.subplots(figsize=(2*0.7,3*0.7))\n",
    "sns.boxplot(data=selected_average, x=x, y=y,ax=ax1, order=[\"-\", \"+\"])\n",
    "# sns.swarmplot(data=freq_ratio_filtered, x=\"loi_target\", y=\"during_before_ratio_mf\", hue=\"is_target\", ax=ax1)\n",
    "ax1.set_ylim(0, 2)\n",
    "ax1.set_xlabel(\"LOI targeted\")\n",
    "ax1.set_ylabel(r\"$f_{during}/f_{before}$\")\n",
    "\n",
    "pairs = [(\"-\", \"+\")]\n",
    "\n",
    "annot = Annotator(ax1, pairs, data=selected_average, x=x,y=y)\n",
    "annot.configure(test=\"Mann-Whitney-ls\", verbose=2, loc=\"outside\")\n",
    "annot.apply_and_annotate()\n",
    "plt.tight_layout()\n",
    "# plt.savefig(os.path.join(figdir, \"Figure4\", \"freq_shift_loi_embryo_mean_dynamic.svg\"))"
   ]
  },
  {
   "cell_type": "code",
   "execution_count": null,
   "metadata": {},
   "outputs": [],
   "source": []
  }
 ],
 "metadata": {
  "kernelspec": {
   "display_name": "Python [conda env:.conda-bjia2]",
   "language": "python",
   "name": "conda-env-.conda-bjia2-py"
  },
  "language_info": {
   "codemirror_mode": {
    "name": "ipython",
    "version": 3
   },
   "file_extension": ".py",
   "mimetype": "text/x-python",
   "name": "python",
   "nbconvert_exporter": "python",
   "pygments_lexer": "ipython3",
   "version": "3.9.7"
  }
 },
 "nbformat": 4,
 "nbformat_minor": 2
}
