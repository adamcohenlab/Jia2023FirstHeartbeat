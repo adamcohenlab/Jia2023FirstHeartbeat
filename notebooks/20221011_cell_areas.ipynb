{
 "cells": [
  {
   "cell_type": "code",
   "execution_count": 1,
   "id": "5b48426d",
   "metadata": {},
   "outputs": [],
   "source": [
    "from pathlib import Path\n",
    "import sys\n",
    "import pandas as pd\n",
    "import numpy as np\n",
    "import matplotlib.pyplot as plt\n",
    "import os\n",
    "import colorcet as cc\n",
    "biopubs_style = Path(os.getenv(\"SPIKECOUNTER_PATH\"), \"config\", \"bio_publications.mplstyle\")\n",
    "plt.style.use(\n",
    "    biopubs_style\n",
    ")"
   ]
  },
  {
   "cell_type": "code",
   "execution_count": 5,
   "id": "1c760857",
   "metadata": {},
   "outputs": [],
   "source": [
    "expt_name = \"20221011_cell_areas\"\n",
    "rootdir = Path(os.getenv(\"DATA_ROOTDIR\"), expt_name)\n",
    "output_datadir = Path(os.getenv(\"ANALYSIS_OUTPUT_ROOTDIR\"), \"2022 First Heartbeat_Submitted\", \n",
    "                       \"Figures/Data/Figure2/\")\n",
    "os.makedirs(output_datadir/expt_name, exist_ok=True)"
   ]
  },
  {
   "cell_type": "code",
   "execution_count": 3,
   "id": "87563758",
   "metadata": {},
   "outputs": [],
   "source": [
    "dfs = []\n",
    "for f in os.listdir(rootdir):\n",
    "    df = pd.read_csv(os.path.join(rootdir, f))\n",
    "    df[\"file\"] = f\n",
    "    dfs.append(df)"
   ]
  },
  {
   "cell_type": "code",
   "execution_count": 4,
   "id": "45e13326",
   "metadata": {},
   "outputs": [],
   "source": [
    "all_cell_areas = pd.concat(dfs, axis=0)"
   ]
  },
  {
   "cell_type": "code",
   "execution_count": 6,
   "id": "abbd92fe",
   "metadata": {},
   "outputs": [],
   "source": [
    "all_cell_areas.to_csv(output_datadir/\"confocal_cell_areas.csv\")"
   ]
  },
  {
   "cell_type": "code",
   "execution_count": 16,
   "id": "b671a593",
   "metadata": {},
   "outputs": [
    {
     "data": {
      "image/png": "[encoded data removed]",
      "text/plain": [
       "<Figure size 216x144 with 1 Axes>"
      ]
     },
     "metadata": {
      "needs_background": "light"
     },
     "output_type": "display_data"
    }
   ],
   "source": [
    "fig1, ax1 = plt.subplots(figsize=(3,2))\n",
    "ax1.hist(all_cell_areas[\"Area\"], density=True, bins=20)\n",
    "ax1.set_xlabel(r\"Cell area ($\\mathrm{\\mu m^2}$)\")\n",
    "ax1.set_ylabel(r\"Probability density\")\n",
    "plt.savefig(os.path.join(figdir, \"Supplementary Figures/cone_geometry/cell_areas.svg\"))"
   ]
  },
  {
   "cell_type": "code",
   "execution_count": 13,
   "id": "9646a747",
   "metadata": {},
   "outputs": [
    {
     "data": {
      "text/plain": [
       "82.2391377952757"
      ]
     },
     "execution_count": 13,
     "metadata": {},
     "output_type": "execute_result"
    }
   ],
   "source": [
    "np.mean(all_cell_areas[\"Area\"])"
   ]
  },
  {
   "cell_type": "code",
   "execution_count": 14,
   "id": "c0a9e38b",
   "metadata": {},
   "outputs": [
    {
     "data": {
      "text/plain": [
       "29.871583417601304"
      ]
     },
     "execution_count": 14,
     "metadata": {},
     "output_type": "execute_result"
    }
   ],
   "source": [
    "np.std(all_cell_areas[\"Area\"])"
   ]
  },
  {
   "cell_type": "code",
   "execution_count": null,
   "id": "77679bac",
   "metadata": {},
   "outputs": [],
   "source": []
  }
 ],
 "metadata": {
  "kernelspec": {
   "display_name": "Python [conda env:.conda-bjia2]",
   "language": "python",
   "name": "conda-env-.conda-bjia2-py"
  },
  "language_info": {
   "codemirror_mode": {
    "name": "ipython",
    "version": 3
   },
   "file_extension": ".py",
   "mimetype": "text/x-python",
   "name": "python",
   "nbconvert_exporter": "python",
   "pygments_lexer": "ipython3",
   "version": "3.9.7"
  }
 },
 "nbformat": 4,
 "nbformat_minor": 5
}
