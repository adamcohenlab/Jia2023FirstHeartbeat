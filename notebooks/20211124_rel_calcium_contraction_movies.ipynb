{
 "cells": [
  {
   "cell_type": "code",
   "execution_count": 10,
   "metadata": {},
   "outputs": [],
   "source": [
    "import sys\n",
    "sys.path.append(\"../SpikeCounter\")\n",
    "import numpy as np\n",
    "import skimage.io as skio\n",
    "import matplotlib as mpl\n",
    "import matplotlib.pyplot as plt\n",
    "from tifffile import imsave\n",
    "import matplotlib.colors as colors\n",
    "import matplotlib.patches as patches\n",
    "import os\n",
    "from scipy import interpolate, optimize, ndimage, stats, signal\n",
    "from skimage import filters, transform, morphology, exposure, measure\n",
    "from skimage import color as ski_color\n",
    "from spikecounter.analysis import traces, images\n",
    "from spikecounter.ui import visualize\n",
    "from spikecounter.ui import stackViewer\n",
    "from spikecounter import utils\n",
    "import colorcet as cc\n",
    "from cycler import cycler\n",
    "from scipy.io import loadmat\n",
    "import mat73\n",
    "from sklearn.utils.extmath import randomized_svd\n",
    "import pandas as pd\n",
    "import importlib\n",
    "from statannotations.Annotator import Annotator\n",
    "\n",
    "import seaborn as sns\n",
    "plt.style.use(\"/n/home11/bjia/bio_publications.mplstyle\")"
   ]
  },
  {
   "cell_type": "code",
   "execution_count": 2,
   "metadata": {},
   "outputs": [],
   "source": [
    "def reload_libraries():\n",
    "    importlib.reload(images)\n",
    "    importlib.reload(traces)\n",
    "    importlib.reload(utils)\n",
    "    importlib.reload(visualize)"
   ]
  },
  {
   "cell_type": "code",
   "execution_count": 3,
   "metadata": {},
   "outputs": [],
   "source": [
    "figdir = \"/n/cohen_lab/Lab/Papers/2022 First Heartbeat/Figures/\""
   ]
  },
  {
   "cell_type": "code",
   "execution_count": 4,
   "metadata": {},
   "outputs": [
    {
     "ename": "NameError",
     "evalue": "name 'um_per_px' is not defined",
     "output_type": "error",
     "traceback": [
      "\u001b[0;31m---------------------------------------------------------------------------\u001b[0m",
      "\u001b[0;31mNameError\u001b[0m                                 Traceback (most recent call last)",
      "\u001b[0;32m/tmp/ipykernel_133990/708429572.py\u001b[0m in \u001b[0;36m<module>\u001b[0;34m\u001b[0m\n\u001b[0;32m----> 1\u001b[0;31m \u001b[0mum_per_px\u001b[0m\u001b[0;34m\u001b[0m\u001b[0;34m\u001b[0m\u001b[0m\n\u001b[0m",
      "\u001b[0;31mNameError\u001b[0m: name 'um_per_px' is not defined"
     ]
    }
   ],
   "source": [
    "um_per_px"
   ]
  },
  {
   "cell_type": "markdown",
   "metadata": {},
   "source": [
    "### Load metadata and video"
   ]
  },
  {
   "cell_type": "code",
   "execution_count": 22,
   "metadata": {},
   "outputs": [],
   "source": [
    "reload_libraries()"
   ]
  },
  {
   "cell_type": "code",
   "execution_count": 7,
   "metadata": {},
   "outputs": [],
   "source": [
    "rootdir = \"/n/holyscratch01/cohen_lab/bjia/20211124_rel_calcium_contraction/\"\n",
    "subfolder = \"downsampled\"\n",
    "um_per_px = 0.265*4\n",
    "# os.makedirs(os.path.join(rootdir, \"analysis\"), exist_ok=True)"
   ]
  },
  {
   "cell_type": "code",
   "execution_count": 37,
   "metadata": {},
   "outputs": [
    {
     "data": {
      "text/plain": [
       "1.06"
      ]
     },
     "execution_count": 37,
     "metadata": {},
     "output_type": "execute_result"
    }
   ],
   "source": [
    "um_per_px"
   ]
  },
  {
   "cell_type": "code",
   "execution_count": 5,
   "metadata": {},
   "outputs": [],
   "source": [
    "pairs = {\"before\": [\"122345E12_bf\", \"122202E12_calcium\"], \"after\": [\"133353E12_bf\",\"133603E12_calcium\"]}\n",
    "img_pairs = {\"before\": [], \"after\": []}"
   ]
  },
  {
   "cell_type": "code",
   "execution_count": 8,
   "metadata": {
    "scrolled": true
   },
   "outputs": [
    {
     "name": "stdout",
     "output_type": "stream",
     "text": [
      "{'camera': {'dropped_frames': array(0.), 'exposuretime': array(0.10000638), 'frames_requested': array(600.), 'roi': array([672., 704., 672., 704.])}, 'clock_rate': array(100000.), 'dmd_fast': {'target': array([[ True,  True,  True, ...,  True,  True,  True],\n",
      "       [ True,  True,  True, ...,  True,  True,  True],\n",
      "       [ True,  True,  True, ...,  True,  True,  True],\n",
      "       ...,\n",
      "       [ True,  True,  True, ...,  True,  True,  True],\n",
      "       [ True,  True,  True, ...,  True,  True,  True],\n",
      "       [ True,  True,  True, ...,  True,  True,  True]]), 'target_image_space': array([[ True,  True,  True, ...,  True,  True,  True],\n",
      "       [ True,  True,  True, ...,  True,  True,  True],\n",
      "       [ True,  True,  True, ...,  True,  True,  True],\n",
      "       ...,\n",
      "       [ True,  True,  True, ...,  True,  True,  True],\n",
      "       [ True,  True,  True, ...,  True,  True,  True],\n",
      "       [ True,  True,  True, ...,  True,  True,  True]]), 'tform': array([[-2.18731416e-01, -2.14308304e-02,  0.00000000e+00],\n",
      "       [ 2.13263165e-02, -2.07877426e-01,  0.00000000e+00],\n",
      "       [ 6.04170201e+02,  6.33359486e+02,  1.00000000e+00]])}, 'frame_counter': array([  0,   0,   0, ..., 609, 609, 609], dtype=uint32), 'task_traces': {'task_type': 'do', 'traces': {'name': 'shutter488', 'values': array([1., 1., 1., ..., 1., 1., 0.])}}}\n",
      "[Errno 2] No such file or directory: '/n/holyscratch01/cohen_lab/bjia/20211124_rel_calcium_contraction/downsampled/122345E12_bf/Sq_camera.bin'\n"
     ]
    },
    {
     "name": "stderr",
     "output_type": "stream",
     "text": [
      "/n/holyscratch01/cohen_lab/bjia/notebooks/../SpikeCounter/spikecounter/analysis/images.py:82: UserWarning: 9 frames dropped\n",
      "  warnings.warn(\"%d frames dropped\" % (fc_max - img.shape[0]))\n"
     ]
    },
    {
     "name": "stdout",
     "output_type": "stream",
     "text": [
      "0.10319083881578947\n",
      "{'camera': {'dropped_frames': array(0.), 'exposuretime': array(0.10000638), 'frames_requested': array(600.), 'roi': array([672., 704., 672., 704.])}, 'clock_rate': array(100000.), 'dmd_fast': {'target': array([[ True,  True,  True, ...,  True,  True,  True],\n",
      "       [ True,  True,  True, ...,  True,  True,  True],\n",
      "       [ True,  True,  True, ...,  True,  True,  True],\n",
      "       ...,\n",
      "       [ True,  True,  True, ...,  True,  True,  True],\n",
      "       [ True,  True,  True, ...,  True,  True,  True],\n",
      "       [ True,  True,  True, ...,  True,  True,  True]]), 'target_image_space': array([[ True,  True,  True, ...,  True,  True,  True],\n",
      "       [ True,  True,  True, ...,  True,  True,  True],\n",
      "       [ True,  True,  True, ...,  True,  True,  True],\n",
      "       ...,\n",
      "       [ True,  True,  True, ...,  True,  True,  True],\n",
      "       [ True,  True,  True, ...,  True,  True,  True],\n",
      "       [ True,  True,  True, ...,  True,  True,  True]]), 'tform': array([[-2.18731416e-01, -2.14308304e-02,  0.00000000e+00],\n",
      "       [ 2.13263165e-02, -2.07877426e-01,  0.00000000e+00],\n",
      "       [ 6.04170201e+02,  6.33359486e+02,  1.00000000e+00]])}, 'frame_counter': array([  0,   0,   0, ..., 609, 609, 609], dtype=uint32), 'task_traces': {'task_type': 'do', 'traces': {'name': 'shutter488', 'values': array([1., 1., 1., ..., 1., 1., 0.])}}}\n",
      "[Errno 2] No such file or directory: '/n/holyscratch01/cohen_lab/bjia/20211124_rel_calcium_contraction/downsampled/122202E12_calcium/Sq_camera.bin'\n",
      "0.10319284539473685\n",
      "{'camera': {'dropped_frames': array(0.), 'exposuretime': array(0.10000638), 'frames_requested': array(600.), 'roi': array([672., 704., 672., 704.])}, 'clock_rate': array(100000.), 'dmd_fast': {'target': array([[ True,  True,  True, ...,  True,  True,  True],\n",
      "       [ True,  True,  True, ...,  True,  True,  True],\n",
      "       [ True,  True,  True, ...,  True,  True,  True],\n",
      "       ...,\n",
      "       [ True,  True,  True, ...,  True,  True,  True],\n",
      "       [ True,  True,  True, ...,  True,  True,  True],\n",
      "       [ True,  True,  True, ...,  True,  True,  True]]), 'target_image_space': array([[ True,  True,  True, ...,  True,  True,  True],\n",
      "       [ True,  True,  True, ...,  True,  True,  True],\n",
      "       [ True,  True,  True, ...,  True,  True,  True],\n",
      "       ...,\n",
      "       [ True,  True,  True, ...,  True,  True,  True],\n",
      "       [ True,  True,  True, ...,  True,  True,  True],\n",
      "       [ True,  True,  True, ...,  True,  True,  True]]), 'tform': array([[-2.18731416e-01, -2.14308304e-02,  0.00000000e+00],\n",
      "       [ 2.13263165e-02, -2.07877426e-01,  0.00000000e+00],\n",
      "       [ 6.04170201e+02,  6.33359486e+02,  1.00000000e+00]])}, 'frame_counter': array([  0,   0,   0, ..., 609, 609, 609], dtype=uint32), 'task_traces': {'task_type': 'do', 'traces': {'name': 'shutter488', 'values': array([1., 1., 1., ..., 1., 1., 0.])}}}\n",
      "[Errno 2] No such file or directory: '/n/holyscratch01/cohen_lab/bjia/20211124_rel_calcium_contraction/downsampled/133353E12_bf/Sq_camera.bin'\n",
      "0.10319348684210526\n",
      "{'camera': {'dropped_frames': array(0.), 'exposuretime': array(0.10000638), 'frames_requested': array(600.), 'roi': array([672., 704., 672., 704.])}, 'clock_rate': array(100000.), 'dmd_fast': {'target': array([[ True,  True,  True, ...,  True,  True,  True],\n",
      "       [ True,  True,  True, ...,  True,  True,  True],\n",
      "       [ True,  True,  True, ...,  True,  True,  True],\n",
      "       ...,\n",
      "       [ True,  True,  True, ...,  True,  True,  True],\n",
      "       [ True,  True,  True, ...,  True,  True,  True],\n",
      "       [ True,  True,  True, ...,  True,  True,  True]]), 'target_image_space': array([[ True,  True,  True, ...,  True,  True,  True],\n",
      "       [ True,  True,  True, ...,  True,  True,  True],\n",
      "       [ True,  True,  True, ...,  True,  True,  True],\n",
      "       ...,\n",
      "       [ True,  True,  True, ...,  True,  True,  True],\n",
      "       [ True,  True,  True, ...,  True,  True,  True],\n",
      "       [ True,  True,  True, ...,  True,  True,  True]]), 'tform': array([[-2.18731416e-01, -2.14308304e-02,  0.00000000e+00],\n",
      "       [ 2.13263165e-02, -2.07877426e-01,  0.00000000e+00],\n",
      "       [ 6.04170201e+02,  6.33359486e+02,  1.00000000e+00]])}, 'frame_counter': array([  0,   0,   0, ..., 609, 609, 609], dtype=uint32), 'task_traces': {'task_type': 'do', 'traces': {'name': 'shutter488', 'values': array([1., 1., 1., ..., 1., 1., 0.])}}}\n",
      "[Errno 2] No such file or directory: '/n/holyscratch01/cohen_lab/bjia/20211124_rel_calcium_contraction/downsampled/133603E12_calcium/Sq_camera.bin'\n",
      "0.10319080592105263\n"
     ]
    }
   ],
   "source": [
    "for key, value in pairs.items():\n",
    "    for f in value:\n",
    "        \n",
    "        img, expt_data = images.load_image(rootdir, f, subfolder=subfolder)\n",
    "        traces_dict, t = utils.traces_to_dict(expt_data)\n",
    "        dt = np.mean(np.diff(t))\n",
    "        t = t[:img.shape[0]]\n",
    "        print(dt)\n",
    "        img_pairs[key].append(img)\n",
    "# os.makedirs(os.path.join(rootdir, \"analysis\", subfolder, filename), exist_ok=True)"
   ]
  },
  {
   "cell_type": "code",
   "execution_count": 33,
   "metadata": {},
   "outputs": [],
   "source": [
    "key = \"after\"\n",
    "imgs = img_pairs[key]\n",
    "rgb_bf = np.moveaxis(ski_color.gray2rgb(exposure.rescale_intensity(imgs[0], out_range=np.uint8)), -1, 1)\n",
    "rgb_calcium = np.moveaxis(np.array([np.zeros_like(imgs[1], dtype=np.uint8),\\\n",
    "                        exposure.rescale_intensity(imgs[1], out_range=np.uint8), \\\n",
    "                        np.zeros_like(imgs[1], dtype=np.uint8)]), 0, 1)"
   ]
  },
  {
   "cell_type": "code",
   "execution_count": 34,
   "metadata": {},
   "outputs": [
    {
     "data": {
      "text/plain": [
       "(600, 352, 352)"
      ]
     },
     "execution_count": 34,
     "metadata": {},
     "output_type": "execute_result"
    }
   ],
   "source": [
    "imgs[0].shape"
   ]
  },
  {
   "cell_type": "code",
   "execution_count": 35,
   "metadata": {},
   "outputs": [],
   "source": [
    "combined_img = np.concatenate([rgb_bf, rgb_calcium], axis=3)"
   ]
  },
  {
   "cell_type": "code",
   "execution_count": 36,
   "metadata": {},
   "outputs": [],
   "source": [
    "skio.imsave(os.path.join(rootdir, \"after_contraction.tif\"), combined_img)"
   ]
  },
  {
   "cell_type": "code",
   "execution_count": 30,
   "metadata": {},
   "outputs": [
    {
     "data": {
      "text/plain": [
       "(600, 3, 352, 704)"
      ]
     },
     "execution_count": 30,
     "metadata": {},
     "output_type": "execute_result"
    }
   ],
   "source": [
    "combined_img.shape"
   ]
  },
  {
   "cell_type": "code",
   "execution_count": null,
   "metadata": {},
   "outputs": [],
   "source": []
  }
 ],
 "metadata": {
  "kernelspec": {
   "display_name": "Python [conda env:.conda-bjia2]",
   "language": "python",
   "name": "conda-env-.conda-bjia2-py"
  },
  "language_info": {
   "codemirror_mode": {
    "name": "ipython",
    "version": 3
   },
   "file_extension": ".py",
   "mimetype": "text/x-python",
   "name": "python",
   "nbconvert_exporter": "python",
   "pygments_lexer": "ipython3",
   "version": "3.9.7"
  }
 },
 "nbformat": 4,
 "nbformat_minor": 4
}
