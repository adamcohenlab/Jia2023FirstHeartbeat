{
 "cells": [
  {
   "cell_type": "markdown",
   "id": "1a64decc-c264-4190-b14f-a9cdaac699c9",
   "metadata": {},
   "source": [
    "# 20230302_batch_effect_analysis"
   ]
  },
  {
   "cell_type": "code",
   "execution_count": 1,
   "id": "2e9a6132-20e3-4827-a72c-d3fd3ad3ce60",
   "metadata": {},
   "outputs": [],
   "source": [
    "import sys\n",
    "import os\n",
    "from pathlib import Path\n",
    "SPIKECOUNTER_PATH = os.getenv(\"SPIKECOUNTER_PATH\")\n",
    "sys.path.append(SPIKECOUNTER_PATH)\n",
    "\n",
    "import matplotlib.pyplot as plt\n",
    "from matplotlib import patches, lines\n",
    "import matplotlib as mpl\n",
    "import matplotlib.cm as cmaps\n",
    "import matplotlib.colors as colors\n",
    "from matplotlib import gridspec\n",
    "import colorcet as cc\n",
    "\n",
    "from scipy import interpolate, signal, stats, optimize, ndimage\n",
    "import scipy.io as scio\n",
    "import numpy as np\n",
    "import skimage.io as skio\n",
    "from skimage import measure\n",
    "\n",
    "import pickle\n",
    "import seaborn as sbs\n",
    "from parse import *\n",
    "import seaborn as sns\n",
    "from spikecounter.analysis import traces, images\n",
    "from spikecounter import utils\n",
    "from spikecounter.ui import visualize\n",
    "from spikecounter.analysis import stats as sc_stats\n",
    "from sklearn import neighbors\n",
    "import lmfit\n",
    "from cycler import cycler\n",
    "import pandas as pd\n",
    "import importlib\n",
    "from statannotations.Annotator import Annotator\n",
    "biopubs_style = Path(os.getenv(\"SPIKECOUNTER_PATH\"), \"config\", \"bio_publications.mplstyle\")\n",
    "plt.style.use(\n",
    "    biopubs_style\n",
    ")"
   ]
  },
  {
   "cell_type": "code",
   "execution_count": 2,
   "id": "afd2ef43-ff27-4a83-8649-be87e2121269",
   "metadata": {},
   "outputs": [],
   "source": [
    "rootdir = Path(os.getenv(\"ANALYSIS_OUTPUT_ROOTDIR\"), \"2022 First Heartbeat_Submitted\", \n",
    "                       \"Figures/Data/Figure1/\")\n",
    "expts = [\"20210420_gcamp_widefield\", \\\n",
    "         \"20210716_gcamp_widefield\", \"20210724_gcamp_widefield\"]\n",
    "datadirs = [rootdir/d for d in expts]\n",
    "subfolder = \"corrected\""
   ]
  },
  {
   "cell_type": "code",
   "execution_count": 4,
   "id": "e7c0161e-682c-4706-9fb1-3361d280e22f",
   "metadata": {},
   "outputs": [
    {
     "name": "stdout",
     "output_type": "stream",
     "text": [
      "/n/cohen_lab/Lab/Papers/2022 First Heartbeat_Submitted/Figures/Data/Figure1/20210420_gcamp_widefield\n",
      "dict_keys(['__header__', '__version__', '__globals__', 'rois', 'offset_times', 'f_s', 'dFF', 't'])\n",
      "[[ 0  1  2  3  4  5  6  7  8  9 10 11 12]]\n",
      "/n/cohen_lab/Lab/Papers/2022 First Heartbeat_Submitted/Figures/Data/Figure1/20210716_gcamp_widefield\n",
      "dict_keys(['__header__', '__version__', '__globals__', 'rois', 'offset_times', 'f_s', 'dFF', 't'])\n",
      "[[0 1 2 3 4 5 6 7 8]]\n",
      "/n/cohen_lab/Lab/Papers/2022 First Heartbeat_Submitted/Figures/Data/Figure1/20210724_gcamp_widefield\n",
      "dict_keys(['__header__', '__version__', '__globals__', 'rois', 'offset_times', 'f_s', 'dFF', 't'])\n",
      "[[ 0  1  2  3  4  5  7  8  9 10 11 12 13 14 15 16 17]]\n"
     ]
    }
   ],
   "source": [
    "dFFs = []\n",
    "offset_times = []\n",
    "all_peaks = []\n",
    "ts = []\n",
    "total_embryos = 0\n",
    "for datadir in datadirs:\n",
    "    print(datadir)\n",
    "    dFF_mat = scio.loadmat(os.path.join(datadir,\"dFFs.mat\"))\n",
    "    print(dFF_mat.keys())\n",
    "    print(dFF_mat['rois'])\n",
    "    total_embryos += len(dFF_mat['rois'].ravel())\n",
    "    offset_times.append(dFF_mat[\"offset_times\"].ravel())\n",
    "    all_peaks.append(pd.read_csv(os.path.join(datadir, \"peaks_data.csv\"), index_col=\"roi\"))\n",
    "    dFFs.append(dFF_mat['dFF'])\n",
    "    ts.append(dFF_mat['t'].ravel())"
   ]
  },
  {
   "cell_type": "markdown",
   "id": "4f72536c-95a9-4b64-a34f-68545d05d0f0",
   "metadata": {},
   "source": [
    "Compare initiation times."
   ]
  },
  {
   "cell_type": "code",
   "execution_count": 5,
   "id": "6b0e55a0-d3ae-45d1-8570-82c029ee90af",
   "metadata": {},
   "outputs": [],
   "source": [
    "expt_moments = []\n",
    "for datadir in datadirs:\n",
    "    expt_moments.append(scio.loadmat(str(datadir/\"all_moments.mat\")))"
   ]
  },
  {
   "cell_type": "code",
   "execution_count": 6,
   "id": "80de8b87-ea36-4711-bb2b-df3a46a73c6e",
   "metadata": {},
   "outputs": [
    {
     "name": "stdout",
     "output_type": "stream",
     "text": [
      "[[418 373 550 186 290 288 268 348 334 209 243 289 224]]\n",
      "1052\n",
      "[[268 156 197 200 236 169  84 218 191]]\n",
      "857\n",
      "[[219 213 177 268  79 222 215 253 273  57 212 271 221 238 256 186 247]]\n",
      "782\n"
     ]
    }
   ],
   "source": [
    "all_hpf_starts = []\n",
    "for moments in expt_moments:\n",
    "    all_offsets = moments[\"idx_offsets\"]\n",
    "    hpf = moments[\"hpf\"].ravel()\n",
    "    print(all_offsets)\n",
    "    print(len(hpf))\n",
    "    moments[\"hpf_start\"] = hpf[all_offsets].tolist()[0]\n",
    "    all_hpf_starts.extend(moments[\"hpf_start\"])"
   ]
  },
  {
   "cell_type": "code",
   "execution_count": null,
   "id": "d138ee0b-3d5b-4f24-80ac-4f3ba7bda057",
   "metadata": {},
   "outputs": [],
   "source": [
    "bins = np.linspace(np.min(all_hpf_starts), np.max(all_hpf_starts), 20)"
   ]
  },
  {
   "cell_type": "code",
   "execution_count": 11,
   "id": "5a388c6f-bf4e-4c7b-bc7c-65b6eaecd414",
   "metadata": {},
   "outputs": [
    {
     "data": {
      "image/png": "[encoded data removed]",
      "text/plain": [
       "<Figure size 288x288 with 3 Axes>"
      ]
     },
     "metadata": {
      "needs_background": "light"
     },
     "output_type": "display_data"
    }
   ],
   "source": [
    "with plt.style.context(\"../bio_publications.mplstyle\"):\n",
    "    fig1, axes = plt.subplots(3,1, figsize=(4,4))\n",
    "    for idx, m in enumerate(expt_moments):\n",
    "        axes[idx].hist(m[\"hpf_start\"], bins = bins, color=\"C%d\" % idx)\n",
    "        axes[idx].set_ylim(0, 6)\n",
    "\n",
    "    axes[1].set_ylabel(\"# embryos\")\n",
    "    axes[2].set_xlabel(\"Time of onset (hpf)\")\n",
    "    plt.tight_layout()\n",
    "    plt.savefig(os.path.join(output_data_dir, \"initiation_time_by_batch.svg\"))"
   ]
  },
  {
   "cell_type": "markdown",
   "id": "087efdfb-5624-4114-8294-7209b4856da9",
   "metadata": {},
   "source": [
    "Compare moments between samples"
   ]
  },
  {
   "cell_type": "code",
   "execution_count": 7,
   "id": "137aae67-76cc-4a28-8f4f-157c418af73b",
   "metadata": {},
   "outputs": [
    {
     "name": "stdout",
     "output_type": "stream",
     "text": [
      "/n/cohen_lab/Lab/Papers/2022 First Heartbeat_Submitted/Figures/Data/Figure1/20210420_gcamp_widefield\n",
      "/n/cohen_lab/Lab/Papers/2022 First Heartbeat_Submitted/Figures/Data/Figure1/20210716_gcamp_widefield\n",
      "/n/cohen_lab/Lab/Papers/2022 First Heartbeat_Submitted/Figures/Data/Figure1/20210724_gcamp_widefield\n"
     ]
    },
    {
     "data": {
      "image/png": "[encoded data removed]",
      "text/plain": [
       "<Figure size 288x288 with 1 Axes>"
      ]
     },
     "metadata": {
      "needs_background": "light"
     },
     "output_type": "display_data"
    },
    {
     "data": {
      "image/png": "[encoded data removed]",
      "text/plain": [
       "<Figure size 288x288 with 1 Axes>"
      ]
     },
     "metadata": {
      "needs_background": "light"
     },
     "output_type": "display_data"
    },
    {
     "data": {
      "image/png": "[encoded data removed]",
      "text/plain": [
       "<Figure size 288x288 with 1 Axes>"
      ]
     },
     "metadata": {
      "needs_background": "light"
     },
     "output_type": "display_data"
    }
   ],
   "source": [
    "for idx, datadir in enumerate(datadirs):\n",
    "    print(datadir)\n",
    "    vid = skio.imread(datadir/\"segmentation_video.tif\")\n",
    "    dFF_mat = scio.loadmat(str(datadir/\"dFFs.mat\"))\n",
    "    expt_moments[idx]['rois'] =  dFF_mat['rois']\n",
    "    expt_moments[idx][\"roi_mask\"] = np.max(vid, axis=0)\n",
    "    fig1, ax1 = plt.subplots(figsize=(4,4))\n",
    "    visualize.display_roi_overlay(np.zeros_like(expt_moments[idx][\"roi_mask\"]), expt_moments[idx][\"roi_mask\"], ax=ax1, \\\n",
    "                                 mask_cmap=\"cet_CET_R1\")\n",
    "#     q = ax1.imshow(expt_moments[idx][\"roi_mask\"])\n",
    "#     plt.colorbar(q)"
   ]
  },
  {
   "cell_type": "code",
   "execution_count": 19,
   "id": "4728394e",
   "metadata": {},
   "outputs": [],
   "source": [
    "reload_libraries()"
   ]
  },
  {
   "cell_type": "code",
   "execution_count": 9,
   "id": "e05ce9bf",
   "metadata": {},
   "outputs": [
    {
     "data": {
      "text/plain": [
       "9.0"
      ]
     },
     "execution_count": 9,
     "metadata": {},
     "output_type": "execute_result"
    }
   ],
   "source": [
    "2.25*4"
   ]
  },
  {
   "cell_type": "code",
   "execution_count": 9,
   "id": "852a7aca",
   "metadata": {},
   "outputs": [
    {
     "name": "stdout",
     "output_type": "stream",
     "text": [
      "13\n",
      "9\n",
      "17\n"
     ]
    }
   ],
   "source": [
    "for moments in expt_moments:\n",
    "    print(len(moments[\"rois\"].ravel()))"
   ]
  },
  {
   "cell_type": "code",
   "execution_count": 12,
   "id": "87c0952e",
   "metadata": {},
   "outputs": [
    {
     "name": "stdout",
     "output_type": "stream",
     "text": [
      "[[ 0  1  2  3  4  5  6  7  8  9 10 11 12]]\n",
      "0.04257515280361125 0.7113000206485842\n",
      "0.14492176798118261 0.20553269670937643\n",
      "[[0 1 2 3 4 5 6 7 8]]\n",
      "-0.050222461889292205 0.7711402611076441\n",
      "0.012355601893429505 0.9429839607415265\n",
      "[[ 0  1  2  3  4  5  7  8  9 10 11 12 13 14 15 16 17]]\n",
      "-0.1778114736275277 0.03835751334381721\n",
      "-0.0625624076120343 0.46932876139730834\n"
     ]
    },
    {
     "data": {
      "image/png": "[encoded data removed]",
      "text/plain": [
       "<Figure size 216x158.4 with 1 Axes>"
      ]
     },
     "metadata": {
      "needs_background": "light"
     },
     "output_type": "display_data"
    }
   ],
   "source": [
    "loc_dfs = []\n",
    "um_per_px = 9\n",
    "fig1, ax1 = plt.subplots(figsize=(3,2.2))\n",
    "for idx, moments in enumerate(expt_moments):\n",
    "    print(moments[\"rois\"])\n",
    "    rps = pd.DataFrame(measure.regionprops_table(moments[\"roi_mask\"], properties=('label', 'centroid')))\n",
    "    rps[\"label\"] -= 1\n",
    "    rps = rps[rps[\"label\"].isin(moments[\"rois\"].ravel())]\n",
    "    centroids = np.array(rps[[\"centroid-0\", \"centroid-1\"]])*um_per_px\n",
    "    loc_df = pd.DataFrame({\"expt\": [expts[idx]]*centroids.shape[0], \n",
    "                           \"roi\": moments[\"rois\"].ravel(),\n",
    "                           \"centroid_y\": centroids[:,0],\n",
    "                           \"centroid_x\": centroids[:,1]})\n",
    "    loc_dfs.append(loc_df)\n",
    "    pairwise_distances = utils.pairwise_dist(centroids, centroids)\n",
    "    start_time_diffs = np.abs(np.subtract.outer(moments[\"hpf_start\"], moments[\"hpf_start\"]))\n",
    "    lower_tri = np.tril(np.ones_like(pairwise_distances, dtype=bool), -1)\n",
    "    pwd = pairwise_distances[lower_tri]\n",
    "    st = start_time_diffs[lower_tri]\n",
    "    all_pwd.extend(list(pwd))\n",
    "    all_start_delta.extend(list(st*60))\n",
    "    ax1.scatter(pwd, st*60, alpha=0.5, s=8)\n",
    "    r, p = stats.pearsonr(pwd, st)\n",
    "    print(r, p)\n",
    "    r, p = stats.pearsonr(pwd, np.log(st))\n",
    "    print(r, p)\n",
    "ax1.set_xlabel(r\"Distance ($\\mathrm{\\mu m}$)\")\n",
    "ax1.set_ylabel(r\"$|\\Delta t_0|$ (min)\")\n",
    "plt.tight_layout()\n",
    "plt.savefig(rootdir/\"inter_embryo_distance_vs_timing.svg\", dpi=300, bbox_inches=\"tight\")"
   ]
  },
  {
   "cell_type": "code",
   "execution_count": 15,
   "id": "5058f9f7",
   "metadata": {},
   "outputs": [],
   "source": [
    "all_roi_locs = pd.concat(loc_dfs, axis=0)\n",
    "all_roi_locs.to_csv(rootdir/\"widefield_embryo_locs.csv\")"
   ]
  },
  {
   "cell_type": "code",
   "execution_count": 15,
   "id": "8e67255f-68cd-4f27-be39-5b1bf59c7000",
   "metadata": {},
   "outputs": [
    {
     "name": "stdout",
     "output_type": "stream",
     "text": [
      "[[ 0  1  2  3  4  5  6  7  8  9 10 11 12]]\n",
      "(0.042575152803611245, 0.7113000206485842)\n",
      "[[0 1 2 3 4 5 6 7 8]]\n",
      "(-0.0502224618892923, 0.771140261107642)\n",
      "[[ 0  1  2  3  4  5  7  8  9 10 11 12 13 14 15 16 17]]\n",
      "(-0.17781147362752775, 0.03835751334381729)\n"
     ]
    },
    {
     "data": {
      "image/png": "[encoded data removed]",
      "text/plain": [
       "<Figure size 216x216 with 1 Axes>"
      ]
     },
     "metadata": {
      "needs_background": "light"
     },
     "output_type": "display_data"
    }
   ],
   "source": [
    "fig1, ax1 = plt.subplots(figsize=(3,3))\n",
    "for moments in expt_moments:\n",
    "    print(moments[\"rois\"])\n",
    "    rps = pd.DataFrame(measure.regionprops_table(moments[\"roi_mask\"], properties=('label', 'centroid')))\n",
    "    rps[\"label\"] -= 1\n",
    "    rps = rps[rps[\"label\"].isin(moments[\"rois\"].ravel())]\n",
    "    centroids = np.array(rps[[\"centroid-0\", \"centroid-1\"]])\n",
    "    pairwise_distances = utils.pairwise_dist(centroids, centroids)\n",
    "    start_time_diffs = np.abs(np.subtract.outer(moments[\"hpf_start\"], moments[\"hpf_start\"]))\n",
    "    lower_tri = np.tril(np.ones_like(pairwise_distances, dtype=bool), -1)\n",
    "    pwd = pairwise_distances[lower_tri]\n",
    "    st = start_time_diffs[lower_tri]\n",
    "    ax1.scatter(pwd, st*60, alpha=0.5, s=8)\n",
    "    print(stats.pearsonr(pwd, st))\n",
    "ax1.set_xlabel(r\"Distance ($\\mathrm{\\mu m}$)\")\n",
    "ax1.set_ylabel(r\"$\\Delta t_0$ (min)\")\n",
    "plt.savefig(os.path.join(output_data_dir, \"distance_vs_timing.svg\"))"
   ]
  },
  {
   "cell_type": "code",
   "execution_count": 17,
   "id": "2dc6949b",
   "metadata": {},
   "outputs": [
    {
     "name": "stderr",
     "output_type": "stream",
     "text": [
      "/tmp/ipykernel_24140/4274873700.py:7: RuntimeWarning: Mean of empty slice\n",
      "  mean_freq = np.nanmean(aligned_frequencies, axis=0)\n",
      "/n/home11/bjia/.conda/envs/bjia2/lib/python3.9/site-packages/numpy/lib/nanfunctions.py:1670: RuntimeWarning: Degrees of freedom <= 0 for slice.\n",
      "  var = nanvar(a, axis=axis, dtype=dtype, out=out, ddof=ddof,\n",
      "/tmp/ipykernel_24140/4274873700.py:7: RuntimeWarning: Mean of empty slice\n",
      "  mean_freq = np.nanmean(aligned_frequencies, axis=0)\n",
      "/n/home11/bjia/.conda/envs/bjia2/lib/python3.9/site-packages/numpy/lib/nanfunctions.py:1670: RuntimeWarning: Degrees of freedom <= 0 for slice.\n",
      "  var = nanvar(a, axis=axis, dtype=dtype, out=out, ddof=ddof,\n",
      "/tmp/ipykernel_24140/4274873700.py:7: RuntimeWarning: Mean of empty slice\n",
      "  mean_freq = np.nanmean(aligned_frequencies, axis=0)\n",
      "/n/home11/bjia/.conda/envs/bjia2/lib/python3.9/site-packages/numpy/lib/nanfunctions.py:1670: RuntimeWarning: Degrees of freedom <= 0 for slice.\n",
      "  var = nanvar(a, axis=axis, dtype=dtype, out=out, ddof=ddof,\n"
     ]
    },
    {
     "data": {
      "image/png": "[encoded data removed]",
      "text/plain": [
       "<Figure size 216x144 with 1 Axes>"
      ]
     },
     "metadata": {
      "needs_background": "light"
     },
     "output_type": "display_data"
    }
   ],
   "source": [
    "fig1, ax1 = plt.subplots(figsize=(3,2))\n",
    "for i in range(3):\n",
    "    moments = expt_moments[i]\n",
    "    aligned_frequencies = moments[\"all_freqs_aligned\"]\n",
    "    all_offsets = moments[\"idx_offsets\"]\n",
    "    hpf = moments[\"hpf\"].ravel()\n",
    "    mean_freq = np.nanmean(aligned_frequencies, axis=0)\n",
    "    std_freq = np.nanstd(aligned_frequencies, axis=0)\n",
    "    x = (np.arange(len(mean_freq)) - np.max(all_offsets))*(hpf[1]-hpf[0])\n",
    "    ax1.plot(x, mean_freq, color=\"C%d\" % i)\n",
    "    ax1.fill_between(x, mean_freq-std_freq, mean_freq+std_freq, alpha=0.1, color=\"C%d\" %i)\n",
    "\n",
    "    ax1.set_xlabel(\"Time after onset (h)\")\n",
    "ax1.set_ylabel(\"Frequency (Hz)\")\n",
    "ax1.set_xlim(-1, 2.5)\n",
    "plt.tight_layout()\n",
    "plt.savefig(os.path.join(output_data_dir, \"batch_frequency.svg\"))"
   ]
  },
  {
   "cell_type": "code",
   "execution_count": 18,
   "id": "70a63c2d",
   "metadata": {},
   "outputs": [
    {
     "name": "stderr",
     "output_type": "stream",
     "text": [
      "/tmp/ipykernel_24140/3813817735.py:7: RuntimeWarning: Mean of empty slice\n",
      "  mean_cov = np.nanmean(aligned_covs, axis=0)\n",
      "/n/home11/bjia/.conda/envs/bjia2/lib/python3.9/site-packages/numpy/lib/nanfunctions.py:1670: RuntimeWarning: Degrees of freedom <= 0 for slice.\n",
      "  var = nanvar(a, axis=axis, dtype=dtype, out=out, ddof=ddof,\n",
      "/tmp/ipykernel_24140/3813817735.py:7: RuntimeWarning: Mean of empty slice\n",
      "  mean_cov = np.nanmean(aligned_covs, axis=0)\n",
      "/n/home11/bjia/.conda/envs/bjia2/lib/python3.9/site-packages/numpy/lib/nanfunctions.py:1670: RuntimeWarning: Degrees of freedom <= 0 for slice.\n",
      "  var = nanvar(a, axis=axis, dtype=dtype, out=out, ddof=ddof,\n",
      "/tmp/ipykernel_24140/3813817735.py:7: RuntimeWarning: Mean of empty slice\n",
      "  mean_cov = np.nanmean(aligned_covs, axis=0)\n",
      "/n/home11/bjia/.conda/envs/bjia2/lib/python3.9/site-packages/numpy/lib/nanfunctions.py:1670: RuntimeWarning: Degrees of freedom <= 0 for slice.\n",
      "  var = nanvar(a, axis=axis, dtype=dtype, out=out, ddof=ddof,\n"
     ]
    },
    {
     "data": {
      "image/png": "[encoded data removed]",
      "text/plain": [
       "<Figure size 216x144 with 1 Axes>"
      ]
     },
     "metadata": {
      "needs_background": "light"
     },
     "output_type": "display_data"
    }
   ],
   "source": [
    "fig1, ax1 = plt.subplots(figsize=(3,2))\n",
    "for i in range(3):\n",
    "    moments = expt_moments[i]   \n",
    "    aligned_covs = moments[\"covs_aligned\"]\n",
    "    all_offsets = moments[\"idx_offsets\"]\n",
    "    hpf = moments[\"hpf\"].ravel()\n",
    "    mean_cov = np.nanmean(aligned_covs, axis=0)\n",
    "    std_cov = np.nanstd(aligned_covs, axis=0)\n",
    "    x = (np.arange(len(mean_cov)) - np.max(all_offsets))*(hpf[1]-hpf[0])\n",
    "    ax1.plot(x, mean_cov, color=\"C%d\" % i)\n",
    "    ax1.fill_between(x, mean_cov-std_cov, mean_cov+std_cov, alpha=0.1, color=\"C%d\" %i)\n",
    "\n",
    "    ax1.set_xlabel(\"Time after onset (h)\")\n",
    "ax1.set_ylim(0,1.2)\n",
    "ax1.set_xlim(-1, 2.5)\n",
    "ax1.set_ylabel(r\"ISI $\\sigma/\\mu$\")\n",
    "plt.tight_layout()\n",
    "plt.savefig(os.path.join(output_data_dir, \"batch_cv.svg\"))"
   ]
  },
  {
   "cell_type": "code",
   "execution_count": null,
   "id": "db682c4d",
   "metadata": {},
   "outputs": [],
   "source": []
  }
 ],
 "metadata": {
  "kernelspec": {
   "display_name": "Python [conda env:.conda-bjia2]",
   "language": "python",
   "name": "conda-env-.conda-bjia2-py"
  },
  "language_info": {
   "codemirror_mode": {
    "name": "ipython",
    "version": 3
   },
   "file_extension": ".py",
   "mimetype": "text/x-python",
   "name": "python",
   "nbconvert_exporter": "python",
   "pygments_lexer": "ipython3",
   "version": "3.9.7"
  }
 },
 "nbformat": 4,
 "nbformat_minor": 5
}
