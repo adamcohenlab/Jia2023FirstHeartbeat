{
 "cells": [
  {
   "cell_type": "code",
   "execution_count": 8,
   "id": "a01d85a2",
   "metadata": {},
   "outputs": [],
   "source": [
    "import sys\n",
    "from pathlib import Path\n",
    "import os\n",
    "import warnings\n",
    "import time\n",
    "import re\n",
    "SPIKECOUNTER_PATH = os.getenv(\"SPIKECOUNTER_PATH\")\n",
    "ANALYSIS_OUTPUT_ROOTDIR = os.getenv(\"ANALYSIS_OUTPUT_ROOTDIR\")\n",
    "DATA_ROOTDIR = os.getenv(\"DATA_ROOTDIR\")\n",
    "sys.path.append(SPIKECOUNTER_PATH)\n",
    "import matplotlib.pyplot as plt\n",
    "from matplotlib import patches\n",
    "import scipy.signal as signal\n",
    "import scipy.interpolate as interpolate\n",
    "import scipy.io as scio\n",
    "import numpy as np\n",
    "import os\n",
    "import matplotlib.cm as cm\n",
    "import matplotlib.colors as colors\n",
    "import pickle\n",
    "import scipy.optimize as optimize\n",
    "from parse import *\n",
    "import colorcet as cc\n",
    "from cycler import cycler\n",
    "biopubs_style = os.path.join(os.getenv(\"SPIKECOUNTER_PATH\"), \"config\", \"bio_publications.mplstyle\")\n",
    "plt.style.use(\n",
    "    biopubs_style\n",
    ")"
   ]
  },
  {
   "cell_type": "code",
   "execution_count": 15,
   "id": "db3b9818",
   "metadata": {},
   "outputs": [],
   "source": [
    "output_datadir = Path(\n",
    "    ANALYSIS_OUTPUT_ROOTDIR,\n",
    "    \"2022 First Heartbeat_Submitted\",\n",
    "    \"Figures/Data/\"\n",
    ")\n",
    "figdir = \"/n/cohen_lab/Lab/Papers/2022 First Heartbeat/Supplementary Figures/QIF\""
   ]
  },
  {
   "cell_type": "code",
   "execution_count": 3,
   "id": "88fbcf13",
   "metadata": {},
   "outputs": [],
   "source": [
    "def onecell_de(t, x, f):\n",
    "    if x > 5.5:\n",
    "        dxdt = -x/dt\n",
    "    else:\n",
    "        dxdt = x**2 + rest + sigma*np.random.normal()\n",
    "    return dxdt"
   ]
  },
  {
   "cell_type": "code",
   "execution_count": 4,
   "id": "ee9513c5",
   "metadata": {},
   "outputs": [],
   "source": [
    "def onecell_euler(de, ts, dt, y0, f):\n",
    "    t = np.arange(ts[0], ts[1], step=dt)\n",
    "    y = np.zeros((len(t), len(y0)))\n",
    "    y[0,:] = y0\n",
    "    for i in range(1,len(t)):\n",
    "        y[i,:] = y[i-1,:] + de(t[i], y[i-1,:], f)*dt\n",
    "    return t, y"
   ]
  },
  {
   "cell_type": "code",
   "execution_count": 25,
   "id": "5b9a83a5",
   "metadata": {},
   "outputs": [],
   "source": [
    "y0 = [0.8]"
   ]
  },
  {
   "cell_type": "code",
   "execution_count": 26,
   "id": "06b3b8db",
   "metadata": {},
   "outputs": [],
   "source": [
    "rest = -0.5\n",
    "dt = 0.01\n",
    "sigma = 0\n",
    "t, y = onecell_euler(onecell_de, [0,100], dt, y0, 0)"
   ]
  },
  {
   "cell_type": "code",
   "execution_count": 43,
   "id": "1f39649d",
   "metadata": {},
   "outputs": [],
   "source": [
    "rest = -0.5\n",
    "dt = 0.01\n",
    "sigma = 0\n",
    "t, y = onecell_euler(onecell_de, [0,100], dt, y0, 0)"
   ]
  },
  {
   "cell_type": "code",
   "execution_count": 41,
   "id": "b7e85ea8",
   "metadata": {},
   "outputs": [],
   "source": [
    "rest = -0.5\n",
    "dt = 0.01\n",
    "sigma = 0\n",
    "t2, y2 = onecell_euler(onecell_de, [0,100], dt, [0.6], 0)"
   ]
  },
  {
   "cell_type": "code",
   "execution_count": 44,
   "id": "4deced69",
   "metadata": {},
   "outputs": [
    {
     "data": {
      "image/png": "[encoded data removed]",
      "text/plain": [
       "<Figure size 216x144 with 1 Axes>"
      ]
     },
     "metadata": {
      "needs_background": "light"
     },
     "output_type": "display_data"
    }
   ],
   "source": [
    "fig1, ax1 = plt.subplots(figsize=(3,2))\n",
    "ax1.plot(t,y, label=r\"$x$\")\n",
    "ax1.plot(t2,y2, label=r\"$x$\", color=\"C3\", linestyle=\"--\")\n",
    "\n",
    "ax1.hlines(np.sqrt(-rest), 0, 100, colors=\"C1\", label=\"Threshold\")\n",
    "ax1.hlines(-np.sqrt(-rest), 0, 100, colors=\"C2\", label=\"Rest\")\n",
    "ax1.set_xlabel(\"Time\")\n",
    "ax1.set_ylabel(r\"$x$\")\n",
    "# ax1.legend(loc=\"upper right\")\n",
    "ax1.set_xlim(-0.05, 10)\n",
    "ax1.set_ylim(-1, 5.6)\n",
    "plt.savefig(os.path.join(figdir, \"excitable.svg\"))"
   ]
  },
  {
   "cell_type": "code",
   "execution_count": 14,
   "id": "e2389b85",
   "metadata": {},
   "outputs": [
    {
     "data": {
      "text/plain": [
       "(-0.1, 1.0)"
      ]
     },
     "execution_count": 14,
     "metadata": {},
     "output_type": "execute_result"
    },
    {
     "data": {
      "image/png": "[encoded data removed]",
      "text/plain": [
       "<Figure size 108x72 with 1 Axes>"
      ]
     },
     "metadata": {
      "needs_background": "light"
     },
     "output_type": "display_data"
    }
   ],
   "source": [
    "fig1, ax1 = plt.subplots(figsize=(1.5,1))\n",
    "ax1.plot(t,y, label=r\"$x$\")\n",
    "ax1.hlines(0, 0, 100, colors=\"C1\", label=\"Threshold\")\n",
    "ax1.hlines(rest, 0, 100, colors=\"C2\", label=\"Rest\")\n",
    "ax1.set_xlabel(\"Time\")\n",
    "ax1.set_ylabel(r\"$x$\")\n",
    "ax1.legend(loc=\"upper right\")\n",
    "ax1.set_ylim(-0.1, 1)\n",
    "# plt.tight_layout()\n",
    "\n",
    "# plt.savefig(\"../all_widefield_data_new/LIF_example_trace_silent.svg\")"
   ]
  },
  {
   "cell_type": "code",
   "execution_count": 62,
   "id": "e307e90c",
   "metadata": {},
   "outputs": [],
   "source": [
    "rest = 0.1\n",
    "dt = 0.01\n",
    "sigma = 0\n",
    "y0 = [0.8]\n",
    "t, y = onecell_euler(onecell_de, [0,100], dt, y0, 0)"
   ]
  },
  {
   "cell_type": "code",
   "execution_count": 61,
   "id": "6e0fd179",
   "metadata": {},
   "outputs": [
    {
     "data": {
      "image/png": "[encoded data removed]",
      "text/plain": [
       "<Figure size 216x144 with 1 Axes>"
      ]
     },
     "metadata": {
      "needs_background": "light"
     },
     "output_type": "display_data"
    }
   ],
   "source": [
    "fig1, ax1 = plt.subplots(figsize=(3,2))\n",
    "ax1.plot(t,y, label=r\"$x$\")\n",
    "# ax1.plot(t2,y2, label=r\"$x$\", color=\"C3\", linestyle=\"--\")\n",
    "\n",
    "# ax1.hlines(np.sqrt(-rest), 0, 100, colors=\"C1\", label=\"Threshold\")\n",
    "# ax1.hlines(-np.sqrt(-rest), 0, 100, colors=\"C2\", label=\"Rest\")\n",
    "ax1.set_xlabel(\"Time\")\n",
    "ax1.set_ylabel(r\"$x$\")\n",
    "# ax1.legend(loc=\"upper right\")\n",
    "ax1.set_xlim(-0.05, 10)\n",
    "ax1.set_ylim(-1, 5.6)\n",
    "plt.savefig(os.path.join(figdir, \"oscillatory.svg\"))"
   ]
  },
  {
   "cell_type": "code",
   "execution_count": 85,
   "id": "58fb3e89",
   "metadata": {},
   "outputs": [],
   "source": [
    "rest = -0.01\n",
    "dt = 0.002\n",
    "sigma = 7"
   ]
  },
  {
   "cell_type": "code",
   "execution_count": 86,
   "id": "26c1a593",
   "metadata": {},
   "outputs": [],
   "source": [
    "t, y = onecell_euler(onecell_de, [0,100], dt, y0, 0)"
   ]
  },
  {
   "cell_type": "code",
   "execution_count": 89,
   "id": "bc8b0115",
   "metadata": {},
   "outputs": [
    {
     "data": {
      "image/png": "[encoded data removed]",
      "text/plain": [
       "<Figure size 216x144 with 1 Axes>"
      ]
     },
     "metadata": {
      "needs_background": "light"
     },
     "output_type": "display_data"
    }
   ],
   "source": [
    "fig1, ax1 = plt.subplots(figsize=(3,2))\n",
    "ax1.plot(t,y, label=r\"$x$\")\n",
    "# ax1.plot(t2,y2, label=r\"$x$\", color=\"C3\", linestyle=\"--\")\n",
    "\n",
    "ax1.hlines(np.sqrt(-rest), 0, 100, colors=\"C1\", label=\"Threshold\")\n",
    "ax1.hlines(-np.sqrt(-rest), 0, 100, colors=\"C2\", label=\"Rest\")\n",
    "ax1.set_xlabel(\"Time\")\n",
    "ax1.set_ylabel(r\"$x$\")\n",
    "# ax1.legend(loc=\"upper right\")\n",
    "ax1.set_xlim(-0.05, 10)\n",
    "ax1.set_ylim(-1, 5.6)\n",
    "plt.savefig(os.path.join(figdir, \"noisy.svg\"))"
   ]
  },
  {
   "cell_type": "markdown",
   "id": "e948c8d4",
   "metadata": {},
   "source": [
    "Long trace"
   ]
  },
  {
   "cell_type": "code",
   "execution_count": 10,
   "id": "c9c03dd9",
   "metadata": {},
   "outputs": [],
   "source": [
    "rest = -0.001\n",
    "dt = 0.02\n",
    "sigma = 1.89\n",
    "y0 = [rest]\n",
    "short_timescale_scaling = 1.4927431690592463"
   ]
  },
  {
   "cell_type": "code",
   "execution_count": 11,
   "id": "ad4b4bc2",
   "metadata": {},
   "outputs": [],
   "source": [
    "t, y = onecell_euler(onecell_de, [0,180*short_timescale_scaling], dt, y0, 0)"
   ]
  },
  {
   "cell_type": "code",
   "execution_count": 18,
   "id": "94010dde",
   "metadata": {},
   "outputs": [
    {
     "data": {
      "image/png": "[encoded data removed]",
      "text/plain": [
       "<Figure size 504x57.6 with 1 Axes>"
      ]
     },
     "metadata": {
      "needs_background": "light"
     },
     "output_type": "display_data"
    }
   ],
   "source": [
    "fig1, ax1 = plt.subplots(figsize=(7, 0.8))\n",
    "ax1.plot(t/short_timescale_scaling,y)\n",
    "ax1.set_axis_off()\n",
    "ax1.set_xlim(0, 180)\n",
    "plt.tight_layout()\n",
    "plt.savefig(output_datadir/\"Figure2\"/\"model_expt_trace_comparison_MODEL.svg\")"
   ]
  },
  {
   "cell_type": "code",
   "execution_count": null,
   "id": "1842aa5e",
   "metadata": {},
   "outputs": [],
   "source": []
  }
 ],
 "metadata": {
  "kernelspec": {
   "display_name": "Python [conda env:.conda-bjia2]",
   "language": "python",
   "name": "conda-env-.conda-bjia2-py"
  },
  "language_info": {
   "codemirror_mode": {
    "name": "ipython",
    "version": 3
   },
   "file_extension": ".py",
   "mimetype": "text/x-python",
   "name": "python",
   "nbconvert_exporter": "python",
   "pygments_lexer": "ipython3",
   "version": "3.9.7"
  }
 },
 "nbformat": 4,
 "nbformat_minor": 5
}
