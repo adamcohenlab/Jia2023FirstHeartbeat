{
 "cells": [
  {
   "cell_type": "code",
   "execution_count": 89,
   "metadata": {},
   "outputs": [],
   "source": [
    "import matplotlib.pyplot as plt\n",
    "import scipy.signal as signal\n",
    "import scipy.interpolate as interpolate\n",
    "import scipy.io as scio\n",
    "import numpy as np\n",
    "import os\n",
    "import sys\n",
    "sys.path.append(\"../ephysSimsPython\")\n",
    "sys.path.append(\"../SpikeCounter\")\n",
    "import matplotlib.cm as cm\n",
    "import matplotlib.colors as colors\n",
    "import colorcet as cc\n",
    "import pickle\n",
    "import scipy.optimize as optimize\n",
    "from parse import *\n",
    "from detools import detools\n",
    "import pandas as pd\n",
    "from spikecounter.ui import visualize\n",
    "import importlib\n",
    "# plt.style.use(\"/mnt/c/Users/billj/voltage_traces.mplstyle\")\n",
    "plt.style.use(\"../bio_publications.mplstyle\")"
   ]
  },
  {
   "cell_type": "code",
   "execution_count": 90,
   "metadata": {},
   "outputs": [],
   "source": [
    "def reload_libraries():\n",
    "    importlib.reload(visualize)"
   ]
  },
  {
   "cell_type": "code",
   "execution_count": 92,
   "metadata": {},
   "outputs": [],
   "source": [
    "figdir = \"/n/cohen_lab/Lab/Papers/2022 First Heartbeat_Submitted/Figures/Data/Figure3/ChR response simulation\"\n",
    "os.makedirs(figdir, exist_ok=True)"
   ]
  },
  {
   "cell_type": "code",
   "execution_count": 3,
   "metadata": {},
   "outputs": [],
   "source": [
    "params = {}\n",
    "params[\"snic\"] = {\n",
    "    \"E_rev\": np.array([-80, 60, -90]),\n",
    "    \"n_h\": -25,\n",
    "    \"g\": np.array([8, 20, 10]),\n",
    "    \"m_h\": -20,\n",
    "    \"k_m\": 15,\n",
    "    \"k_n\": 5,\n",
    "    \"tau\": 1,\n",
    "    \"C\": 1,\n",
    "    \"D\":1,\n",
    "    \"I\": None,\n",
    "    \"V_init\": -61,\n",
    "    \"n_init\": 0.01\n",
    "}\n",
    "\n",
    "params[\"saddle_node\"] = {\n",
    "    \"E_rev\": np.array([-80, 60, -90]),\n",
    "    \"n_h\": -25,\n",
    "    \"g\": np.array([8, 20, 10]),\n",
    "    \"m_h\": -20,\n",
    "    \"k_m\": 15,\n",
    "    \"k_n\": 5,\n",
    "    \"tau\": 0.14,\n",
    "    \"tau\": 0.159,\n",
    "    \"C\": 1,\n",
    "    \"D\":0.1,\n",
    "    \"I\": None,\n",
    "    \"V_init\": -62,\n",
    "    \"n_init\": 0.01\n",
    "}\n",
    "params[\"supercritical_hopf\"] = {\n",
    "    \"E_rev\": np.array([-78, 60, -90]),\n",
    "    \"n_h\": -45,\n",
    "    \"g\": np.array([8, 22, 10]),\n",
    "    \"m_h\": -23.4,\n",
    "    \"k_m\": 12.826,\n",
    "    \"k_n\": 5,\n",
    "    \"tau\": 1,\n",
    "    \"C\": 1,\n",
    "    \"D\":1,\n",
    "    \"I\": None,\n",
    "    \"V_init\": -55,\n",
    "    \"n_init\": 0.1\n",
    "}\n",
    "params[\"subcritical_hopf\"] = {\n",
    "    \"E_rev\": np.array([-78, 60, -90]),\n",
    "    \"n_h\": -45,\n",
    "    \"g\": np.array([1, 4, 4]),\n",
    "    \"m_h\": -30,\n",
    "    \"k_m\": 7,\n",
    "    \"k_n\": 5,\n",
    "    \"tau\": 1,\n",
    "    \"C\": 1,\n",
    "    \"D\":0.05,\n",
    "    \"I\": None,\n",
    "    \"V_init\": -49,\n",
    "    \"n_init\": 0.3\n",
    "}\n",
    "params[\"subcritical_hopf2\"] = {\n",
    "    \"E_rev\": np.array([-78, 60, -90]),\n",
    "    \"n_h\": -45,\n",
    "    \"g\": np.array([1, 4, 4]),\n",
    "    \"m_h\": -30,\n",
    "    \"k_m\": 7,\n",
    "    \"k_n\": 5,\n",
    "    \"tau\": 1,\n",
    "    \"C\": 1,\n",
    "    \"D\":0.1,\n",
    "    \"I\": None,\n",
    "    \"V_init\": -49,\n",
    "    \"n_init\": 0.3\n",
    "}\n"
   ]
  },
  {
   "cell_type": "code",
   "execution_count": 4,
   "metadata": {},
   "outputs": [],
   "source": [
    "def gen_ramp(min_val, max_val, duration):\n",
    "    def ramp(x, t):\n",
    "        return min_val + (max_val-min_val)*min(1,t/duration)\n",
    "    return ramp"
   ]
  },
  {
   "cell_type": "code",
   "execution_count": 5,
   "metadata": {},
   "outputs": [],
   "source": [
    "def onecell_euler(de, ts, dt, y0):\n",
    "    t = np.arange(ts[0], ts[1], step=dt)\n",
    "    y = np.zeros((len(t), len(y0)))\n",
    "    y[0,:] = y0\n",
    "    print(y.shape)\n",
    "    for i in range(1,len(t)):\n",
    "        y[i,:] = y[i-1,:] + np.array(de(y[i-1,0], y[i-1,1], t[i]))*dt\n",
    "    return t, y"
   ]
  },
  {
   "cell_type": "code",
   "execution_count": 56,
   "metadata": {},
   "outputs": [],
   "source": [
    "def input_func(x,t, stim_mag, period, duration, sigma):\n",
    "    y = np.random.randn()*sigma + ((t - np.floor(t/period)*period) < duration*0.8)* stim_mag\n",
    "    return y"
   ]
  },
  {
   "cell_type": "code",
   "execution_count": 33,
   "metadata": {},
   "outputs": [
    {
     "data": {
      "text/plain": [
       "(0.0, 100.0)"
      ]
     },
     "execution_count": 33,
     "metadata": {},
     "output_type": "execute_result"
    },
    {
     "data": {
      "image/png": "[encoded data removed]",
      "text/plain": [
       "<Figure size 237.6x180 with 1 Axes>"
      ]
     },
     "metadata": {
      "needs_background": "light"
     },
     "output_type": "display_data"
    }
   ],
   "source": [
    "plt.plot(t,(t-np.floor(t/period)*period) < dt*0.8)\n",
    "plt.xlim(0, 100)"
   ]
  },
  {
   "cell_type": "code",
   "execution_count": 8,
   "metadata": {},
   "outputs": [],
   "source": [
    "curr_params = params[\"snic\"]\n",
    "del curr_params[\"V_init\"]\n",
    "del curr_params[\"n_init\"]"
   ]
  },
  {
   "cell_type": "code",
   "execution_count": 80,
   "metadata": {
    "scrolled": true
   },
   "outputs": [
    {
     "name": "stdout",
     "output_type": "stream",
     "text": [
      "(250000, 2)\n",
      "(250000, 2)\n"
     ]
    },
    {
     "data": {
      "text/plain": [
       "[<matplotlib.lines.Line2D at 0x2ab926b26280>]"
      ]
     },
     "execution_count": 80,
     "metadata": {},
     "output_type": "execute_result"
    },
    {
     "data": {
      "image/png": "[encoded data removed]",
      "text/plain": [
       "<Figure size 864x288 with 2 Axes>"
      ]
     },
     "metadata": {
      "needs_background": "light"
     },
     "output_type": "display_data"
    }
   ],
   "source": [
    "curr_params[\"I\"] = 3.2\n",
    "\n",
    "sigma = 10\n",
    "duration = 500\n",
    "stim_mag = 276\n",
    "period = 25\n",
    "dt = 0.002\n",
    "\n",
    "snic_dE = detools.gen_ode(**curr_params, f = lambda x,t: input_func(x,t,stim_mag,period,10*dt,sigma))\n",
    "t, y = onecell_euler(snic_dE, (0,duration), dt, \\\n",
    "                     np.random.randn(2)*np.array([0, 0]) + \\\n",
    "                     np.array([-62, 0]))\n",
    "\n",
    "snic_dE_endo = detools.gen_ode(**curr_params, f = lambda x,t: input_func(x,t,0,period,dt,sigma))\n",
    "t_endo, y_endo = onecell_euler(snic_dE_endo, (0,duration), dt, \\\n",
    "                     np.random.randn(2)*np.array([0, 0]) + \\\n",
    "                     np.array([-62, 0]))\n",
    "\n",
    "fig1, ax1 = plt.subplots(figsize=(12, 4))\n",
    "ax2 = ax1.twinx()\n",
    "stim = input_func(y,t,stim_mag,period,dt,0)\n",
    "ax2.plot(t,stim, color=\"blue\")\n",
    "ax2.set_ylim(0, np.max(stim)*2)\n",
    "\n",
    "ax1.plot(t,y[:,0], color=\"orange\")\n",
    "ax1.plot(t_endo,y_endo[:,0], color=\"green\")\n",
    "# ax1.set_axis_off()\n",
    "# plt.savefig(os.path.join(figdir, \"Figure5\", \"snic_ramp.svg\"))"
   ]
  },
  {
   "cell_type": "markdown",
   "metadata": {},
   "source": [
    "## Analyze parameter sweep simulation data"
   ]
  },
  {
   "cell_type": "code",
   "execution_count": 81,
   "metadata": {},
   "outputs": [],
   "source": [
    "datadir = \"/n/holyscratch01/cohen_lab/bjia/20230314_MorrisLecar_stim/\""
   ]
  },
  {
   "cell_type": "code",
   "execution_count": 87,
   "metadata": {},
   "outputs": [
    {
     "name": "stderr",
     "output_type": "stream",
     "text": [
      "/tmp/ipykernel_249894/1659337162.py:12: RuntimeWarning: invalid value encountered in true_divide\n",
      "  res['isi_std']/res['isi_mu'], res['f'], res['n_peaks'], res[\"stim_response_prob\"]))\n"
     ]
    }
   ],
   "source": [
    "all_data = []\n",
    "bif = \"snic\"\n",
    "for file in os.listdir(datadir):\n",
    "    params = parse(\"%s_sigma_{sigma:f}_I_{I:f}.npz\" % bif,  file)\n",
    "    if params is not None:\n",
    "        try:\n",
    "            res = np.load(os.path.join(datadir, file))\n",
    "        except Exception as e:\n",
    "            print(file)\n",
    "            continue\n",
    "        all_data.append((bif, params['I'], params['sigma'], res['isi_mu'], res['isi_std'], \\\n",
    "                         res['isi_std']/res['isi_mu'], res['f'], res['n_peaks'], res[\"stim_response_prob\"]))\n",
    "all_data = pd.DataFrame(all_data, columns = [\"bifurcation\", \"I\", \"sigma\", \"isi_mu\", \"isi_std\", \"isi_cv\",\\\n",
    "                                             \"freq\", \"n_peaks\", \"response_prob\"])\n"
   ]
  },
  {
   "cell_type": "code",
   "execution_count": 93,
   "metadata": {},
   "outputs": [],
   "source": [
    "all_data.to_csv(os.path.join(figdir, \"simulated_stim_response_statistics.csv\"))"
   ]
  },
  {
   "cell_type": "code",
   "execution_count": 95,
   "metadata": {},
   "outputs": [],
   "source": [
    "reload_libraries()"
   ]
  },
  {
   "cell_type": "code",
   "execution_count": 97,
   "metadata": {},
   "outputs": [
    {
     "data": {
      "image/png": "[encoded data removed]",
      "text/plain": [
       "<Figure size 432x432 with 2 Axes>"
      ]
     },
     "metadata": {
      "needs_background": "light"
     },
     "output_type": "display_data"
    }
   ],
   "source": [
    "fig1, ax1 = plt.subplots(figsize=(6,6))\n",
    "visualize.plot_heatmap(all_data, \"response_prob\", \"sigma\", \"I\", ax1)\n",
    "ax1.set_xscale(\"linear\")"
   ]
  },
  {
   "cell_type": "code",
   "execution_count": null,
   "metadata": {},
   "outputs": [],
   "source": []
  }
 ],
 "metadata": {
  "kernelspec": {
   "display_name": "Python [conda env:.conda-bjia2]",
   "language": "python",
   "name": "conda-env-.conda-bjia2-py"
  },
  "language_info": {
   "codemirror_mode": {
    "name": "ipython",
    "version": 3
   },
   "file_extension": ".py",
   "mimetype": "text/x-python",
   "name": "python",
   "nbconvert_exporter": "python",
   "pygments_lexer": "ipython3",
   "version": "3.9.7"
  }
 },
 "nbformat": 4,
 "nbformat_minor": 2
}
