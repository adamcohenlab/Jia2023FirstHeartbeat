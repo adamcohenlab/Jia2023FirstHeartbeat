{
 "cells": [
  {
   "cell_type": "code",
   "execution_count": 1,
   "id": "eabed213",
   "metadata": {},
   "outputs": [],
   "source": [
    "import sys\n",
    "from pathlib import Path\n",
    "import os\n",
    "import warnings\n",
    "SPIKECOUNTER_PATH = os.getenv(\"SPIKECOUNTER_PATH\")\n",
    "sys.path.append(SPIKECOUNTER_PATH)"
   ]
  },
  {
   "cell_type": "code",
   "execution_count": 2,
   "id": "b09805fa",
   "metadata": {},
   "outputs": [],
   "source": [
    "\n",
    "\n",
    "import numpy as np\n",
    "import skimage.io as skio\n",
    "from scipy import ndimage, signal, stats, fft, interpolate, optimize\n",
    "from sklearn.decomposition import PCA\n",
    "from sklearn.preprocessing import StandardScaler\n",
    "\n",
    "from skimage import filters, transform, morphology, registration\n",
    "from tifffile import imsave\n",
    "\n",
    "import matplotlib.pyplot as plt\n",
    "import matplotlib as mpl\n",
    "from matplotlib import patches, colors\n",
    "import colorcet as cc\n",
    "from cycler import cycler\n",
    "import time\n",
    "import mat73\n",
    "import pandas as pd\n",
    "import parse\n",
    "import pickle\n",
    "\n",
    "from spikecounter.analysis import traces, images\n",
    "from spikecounter.ui import visualize, stackViewer\n",
    "from spikecounter import utils\n",
    "import seaborn as sns\n",
    "\n",
    "biopubs_style = Path(os.getenv(\"SPIKECOUNTER_PATH\"), \"config\", \"bio_publications.mplstyle\")\n",
    "plt.style.use(\n",
    "    biopubs_style\n",
    ")\n",
    "warnings.filterwarnings(\"once\")"
   ]
  },
  {
   "cell_type": "code",
   "execution_count": 3,
   "id": "0fcb9091",
   "metadata": {},
   "outputs": [],
   "source": [
    "x = 60"
   ]
  },
  {
   "cell_type": "code",
   "execution_count": null,
   "id": "819d2cbb",
   "metadata": {},
   "outputs": [],
   "source": [
    "rootdir = \"/n/holyscratch01/cohen_lab/bjia\"\n",
    "datadirs = [os.path.join(rootdir, d) for d in [\"20211018_25x_gcamp_focus\", \"20220203_gcamp_site_of_initiation\",\\\n",
    "                                               \"20220505_25x_gcamp_focus\"]]\n",
    "subfolder = \"corrected\"\n",
    "data = pd.concat([pd.read_csv(os.path.join(d, \"analysis\", subfolder, \"wavefront_data_full.csv\")) for d in datadirs])\n",
    "data.loc[np.isnan(data[\"date\"]),\"date\"] = 0\n",
    "data[\"date\"] = data[\"date\"].astype(int).astype(str)"
   ]
  },
  {
   "cell_type": "code",
   "execution_count": null,
   "id": "2eb2e8b4",
   "metadata": {},
   "outputs": [],
   "source": [
    "q = [pd.read_csv(os.path.join(d, \"analysis\", subfolder, \"wavefront_data_full.csv\")) for d in datadirs]"
   ]
  },
  {
   "cell_type": "markdown",
   "id": "3ee01f21",
   "metadata": {},
   "source": [
    "20211018 - 094259E4_gcamp_fast shows beat-to-beat variability of LOI."
   ]
  },
  {
   "cell_type": "code",
   "execution_count": 14,
   "id": "b58d7ded",
   "metadata": {},
   "outputs": [],
   "source": [
    "exclude_files = [\"110549E1_gcamp_fast\", \"091330E6_gcamp_fast\", \"092921E6_gcamp_fast\",\\\n",
    "                 \"095023E6_gcamp_fast\", \"100456E6_gcamp_fast\", \"101658E6_gcamp_fast\",\\\n",
    "                 \"103229E6_gcamp_fast\", \"104548E6_gcamp_fast\", \"110101E6_gcamp_fast\",\\\n",
    "                \"111612E6_gcamp_fast\", \"112929E6_gcamp_fast\", \"113103E7_gcamp_fast\",\\\n",
    "                 \"110227E7_gcamp_fast\", \"111819E7_gcamp_fast\", \"113103E7_gcamp_fast\",\\\n",
    "                 \"103602E8_gcamp_fast\", \"102910E4_gcamp_fast\", \"111248E4_gcamp_fast\",\\\n",
    "                 \"112642E4_gcamp_fast\", \"094715E5_gcamp_fast\", \"094843E5_gcamp_fast\",\\\n",
    "                 \"100334E5_gcamp_fast\", \"101540E5_gcamp_fast\", \"103102E5_gcamp_fast\",\\\n",
    "                 \"104418E5_gcamp_fast\", \"105839E5_gcamp_fast\", \"111434E5_gcamp_fast\",\\\n",
    "                 \"112810E5_gcamp_fast\"] + \\\n",
    "            [\"114644E1_fast\", \"120027E1_fast\", \"120824E1_fast\", \"121401E1_fast\",\\\n",
    "            \"122416E1_fast\", \"123021E1_fast\", \"123526E1_fast\", \"124248E1_fast\",\\\n",
    "             \"115153E2_fast\"] + \\\n",
    "            [\"112612E1_gcamp_fast\", \"111425E6_gcamp_fast\", \"123210E6_gcamp_fast\",\\\n",
    "            \"124258E6_gcamp_fast\",\"124009E4_gcamp_fast\"]"
   ]
  },
  {
   "cell_type": "code",
   "execution_count": 15,
   "id": "87c094d5",
   "metadata": {},
   "outputs": [],
   "source": [
    "for ef in exclude_files:\n",
    "    if ef not in data[\"file_name\"].tolist():\n",
    "        print(ef)"
   ]
  },
  {
   "cell_type": "code",
   "execution_count": 16,
   "id": "2fc18304",
   "metadata": {},
   "outputs": [],
   "source": [
    "data = data[~(data[\"date\"] == \"0\")]\n",
    "data = data[~data[\"file_name\"].isin(exclude_files)]\n",
    "data = data.set_index([\"date\", \"embryo\",\"start_time\"])"
   ]
  },
  {
   "cell_type": "code",
   "execution_count": 4,
   "id": "fd3acf9f",
   "metadata": {},
   "outputs": [
    {
     "name": "stdout",
     "output_type": "stream",
     "text": [
      "ERROR! Session/line number was not unique in database. History logging moved to new session 2688\n"
     ]
    }
   ],
   "source": [
    "rootdir = Path(os.getenv(\"ANALYSIS_OUTPUT_ROOTDIR\"), \"2022 First Heartbeat_Submitted\", \n",
    "                       \"Figures/Data/Figure5/\")"
   ]
  },
  {
   "cell_type": "code",
   "execution_count": 5,
   "id": "8ade21d8",
   "metadata": {},
   "outputs": [],
   "source": [
    "waveprop_data = pd.read_csv(rootdir/\"wave_propagation_filtered.csv\")\n"
   ]
  },
  {
   "cell_type": "markdown",
   "id": "b01bcc32",
   "metadata": {},
   "source": [
    "Quantify how often LOI moves"
   ]
  },
  {
   "cell_type": "code",
   "execution_count": 6,
   "id": "20634c26",
   "metadata": {},
   "outputs": [],
   "source": [
    "distance_metrics = waveprop_data.set_index([\"date\", \"embryo\"])[[\"offset\", \"loi_total_distance\"]]"
   ]
  },
  {
   "cell_type": "code",
   "execution_count": 7,
   "id": "2073d2e1",
   "metadata": {},
   "outputs": [
    {
     "name": "stderr",
     "output_type": "stream",
     "text": [
      "/n/home11/bjia/.conda/envs/bjia2/lib/python3.9/site-packages/pandas/core/indexing.py:925: PerformanceWarning: indexing past lexsort depth may impact performance.\n",
      "  return self._getitem_tuple(key)\n",
      "/n/home11/bjia/.conda/envs/bjia2/lib/python3.9/site-packages/IPython/core/interactiveshell.py:2901: PerformanceWarning: indexing past lexsort depth may impact performance.\n",
      "  result = self._run_cell(\n",
      "/n/home11/bjia/.conda/envs/bjia2/lib/python3.9/site-packages/IPython/core/async_helpers.py:68: PerformanceWarning: indexing past lexsort depth may impact performance.\n",
      "  coro.send(None)\n"
     ]
    }
   ],
   "source": [
    "for idx in distance_metrics.index.unique():\n",
    "    distance_metrics.loc[idx, \"speed_um_h\"] = np.diff(distance_metrics.loc[idx, \"loi_total_distance\"], \n",
    "                                            append=np.nan)/np.diff(distance_metrics.loc[idx, \"offset\"], append=np.nan)*3600"
   ]
  },
  {
   "cell_type": "code",
   "execution_count": 8,
   "id": "44fe6d61",
   "metadata": {},
   "outputs": [
    {
     "data": {
      "image/png": "[encoded data removed]",
      "text/plain": [
       "<Figure size 237.6x180 with 1 Axes>"
      ]
     },
     "metadata": {
      "needs_background": "light"
     },
     "output_type": "display_data"
    }
   ],
   "source": [
    "q = plt.hist(distance_metrics[\"speed_um_h\"], bins=50)"
   ]
  },
  {
   "cell_type": "code",
   "execution_count": 9,
   "id": "304e50b9",
   "metadata": {},
   "outputs": [],
   "source": [
    "distance_metrics[\"large_jump\"] = distance_metrics[\"speed_um_h\"] > 200"
   ]
  },
  {
   "cell_type": "code",
   "execution_count": 10,
   "id": "fe1b4205",
   "metadata": {},
   "outputs": [
    {
     "data": {
      "text/html": [
       "<div>\n",
       "<style scoped>\n",
       "    .dataframe tbody tr th:only-of-type {\n",
       "        vertical-align: middle;\n",
       "    }\n",
       "\n",
       "    .dataframe tbody tr th {\n",
       "        vertical-align: top;\n",
       "    }\n",
       "\n",
       "    .dataframe thead th {\n",
       "        text-align: right;\n",
       "    }\n",
       "</style>\n",
       "<table border=\"1\" class=\"dataframe\">\n",
       "  <thead>\n",
       "    <tr style=\"text-align: right;\">\n",
       "      <th></th>\n",
       "      <th></th>\n",
       "      <th>offset</th>\n",
       "      <th>loi_total_distance</th>\n",
       "      <th>speed_um_h</th>\n",
       "      <th>large_jump</th>\n",
       "    </tr>\n",
       "    <tr>\n",
       "      <th>date</th>\n",
       "      <th>embryo</th>\n",
       "      <th></th>\n",
       "      <th></th>\n",
       "      <th></th>\n",
       "      <th></th>\n",
       "    </tr>\n",
       "  </thead>\n",
       "  <tbody>\n",
       "    <tr>\n",
       "      <th rowspan=\"5\" valign=\"top\">20211018</th>\n",
       "      <th>1</th>\n",
       "      <td>74</td>\n",
       "      <td>0.000000</td>\n",
       "      <td>154.552722</td>\n",
       "      <td>False</td>\n",
       "    </tr>\n",
       "    <tr>\n",
       "      <th>3</th>\n",
       "      <td>304</td>\n",
       "      <td>0.000000</td>\n",
       "      <td>21.110923</td>\n",
       "      <td>False</td>\n",
       "    </tr>\n",
       "    <tr>\n",
       "      <th>1</th>\n",
       "      <td>841</td>\n",
       "      <td>32.928316</td>\n",
       "      <td>122.329384</td>\n",
       "      <td>False</td>\n",
       "    </tr>\n",
       "    <tr>\n",
       "      <th>2</th>\n",
       "      <td>1056</td>\n",
       "      <td>0.000000</td>\n",
       "      <td>363.021758</td>\n",
       "      <td>True</td>\n",
       "    </tr>\n",
       "    <tr>\n",
       "      <th>2</th>\n",
       "      <td>1256</td>\n",
       "      <td>20.167875</td>\n",
       "      <td>103.786295</td>\n",
       "      <td>False</td>\n",
       "    </tr>\n",
       "    <tr>\n",
       "      <th>...</th>\n",
       "      <th>...</th>\n",
       "      <td>...</td>\n",
       "      <td>...</td>\n",
       "      <td>...</td>\n",
       "      <td>...</td>\n",
       "    </tr>\n",
       "    <tr>\n",
       "      <th rowspan=\"5\" valign=\"top\">20220505</th>\n",
       "      <th>8</th>\n",
       "      <td>8423</td>\n",
       "      <td>235.911982</td>\n",
       "      <td>132.766588</td>\n",
       "      <td>False</td>\n",
       "    </tr>\n",
       "    <tr>\n",
       "      <th>1</th>\n",
       "      <td>11459</td>\n",
       "      <td>266.963543</td>\n",
       "      <td>188.120940</td>\n",
       "      <td>False</td>\n",
       "    </tr>\n",
       "    <tr>\n",
       "      <th>8</th>\n",
       "      <td>11633</td>\n",
       "      <td>354.295523</td>\n",
       "      <td>10.866958</td>\n",
       "      <td>False</td>\n",
       "    </tr>\n",
       "    <tr>\n",
       "      <th>8</th>\n",
       "      <td>13769</td>\n",
       "      <td>360.743252</td>\n",
       "      <td>NaN</td>\n",
       "      <td>False</td>\n",
       "    </tr>\n",
       "    <tr>\n",
       "      <th>1</th>\n",
       "      <td>13957</td>\n",
       "      <td>397.498573</td>\n",
       "      <td>NaN</td>\n",
       "      <td>False</td>\n",
       "    </tr>\n",
       "  </tbody>\n",
       "</table>\n",
       "<p>90 rows × 4 columns</p>\n",
       "</div>"
      ],
      "text/plain": [
       "                 offset  loi_total_distance  speed_um_h  large_jump\n",
       "date     embryo                                                    \n",
       "20211018 1           74            0.000000  154.552722       False\n",
       "         3          304            0.000000   21.110923       False\n",
       "         1          841           32.928316  122.329384       False\n",
       "         2         1056            0.000000  363.021758        True\n",
       "         2         1256           20.167875  103.786295       False\n",
       "...                 ...                 ...         ...         ...\n",
       "20220505 8         8423          235.911982  132.766588       False\n",
       "         1        11459          266.963543  188.120940       False\n",
       "         8        11633          354.295523   10.866958       False\n",
       "         8        13769          360.743252         NaN       False\n",
       "         1        13957          397.498573         NaN       False\n",
       "\n",
       "[90 rows x 4 columns]"
      ]
     },
     "execution_count": 10,
     "metadata": {},
     "output_type": "execute_result"
    }
   ],
   "source": [
    "distance_metrics"
   ]
  },
  {
   "cell_type": "code",
   "execution_count": 11,
   "id": "e0d0bc28",
   "metadata": {},
   "outputs": [],
   "source": [
    "distance_metrics = distance_metrics.dropna().reset_index()"
   ]
  },
  {
   "cell_type": "code",
   "execution_count": 12,
   "id": "c6e0d929",
   "metadata": {},
   "outputs": [],
   "source": [
    "grp = distance_metrics.groupby([\"date\",\"embryo\"])"
   ]
  },
  {
   "cell_type": "code",
   "execution_count": 15,
   "id": "f3e4a249",
   "metadata": {},
   "outputs": [
    {
     "data": {
      "text/plain": [
       "date      embryo\n",
       "20211018  1          True\n",
       "          2          True\n",
       "          3          True\n",
       "          4          True\n",
       "          7         False\n",
       "          8          True\n",
       "20220203  3          True\n",
       "20220505  1          True\n",
       "          3         False\n",
       "          7         False\n",
       "          8          True\n",
       "Name: large_jump, dtype: bool"
      ]
     },
     "execution_count": 15,
     "metadata": {},
     "output_type": "execute_result"
    }
   ],
   "source": [
    "grp.sum()[\"large_jump\"] > 0"
   ]
  },
  {
   "cell_type": "code",
   "execution_count": 16,
   "id": "0d4ea8ae",
   "metadata": {},
   "outputs": [
    {
     "name": "stderr",
     "output_type": "stream",
     "text": [
      "/tmp/ipykernel_33097/3623287903.py:1: RuntimeWarning: divide by zero encountered in true_divide\n",
      "  period = 1/(grp.sum()[\"large_jump\"]/(grp.max()[\"offset\"]-grp.min()[\"offset\"])*60).values\n"
     ]
    }
   ],
   "source": [
    "period = 1/(grp.sum()[\"large_jump\"]/(grp.max()[\"offset\"]-grp.min()[\"offset\"])*60).values"
   ]
  },
  {
   "cell_type": "code",
   "execution_count": 17,
   "id": "7ad7f729",
   "metadata": {},
   "outputs": [
    {
     "data": {
      "text/plain": [
       "6.998923611111111e+01"
      ]
     },
     "execution_count": 17,
     "metadata": {},
     "output_type": "execute_result"
    }
   ],
   "source": [
    "np.nanmean(period[np.isfinite(period)])"
   ]
  },
  {
   "cell_type": "code",
   "execution_count": null,
   "id": "9dd318fa",
   "metadata": {},
   "outputs": [],
   "source": []
  }
 ],
 "metadata": {
  "kernelspec": {
   "display_name": "Python [conda env:.conda-bjia2]",
   "language": "python",
   "name": "conda-env-.conda-bjia2-py"
  },
  "language_info": {
   "codemirror_mode": {
    "name": "ipython",
    "version": 3
   },
   "file_extension": ".py",
   "mimetype": "text/x-python",
   "name": "python",
   "nbconvert_exporter": "python",
   "pygments_lexer": "ipython3",
   "version": "3.9.7"
  }
 },
 "nbformat": 4,
 "nbformat_minor": 5
}
