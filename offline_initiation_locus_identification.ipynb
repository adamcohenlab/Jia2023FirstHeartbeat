{
 "cells": [
  {
   "cell_type": "code",
   "execution_count": null,
   "id": "e4ad3ff6",
   "metadata": {},
   "outputs": [],
   "source": [
    "import sys\n",
    "# sys.path.append(\"../SpikeCounter\")\n",
    "import numpy as np\n",
    "import skimage.io as skio\n",
    "import scipy.ndimage as ndi\n",
    "import scipy.signal as signal\n",
    "import scipy.stats as stats\n",
    "import scipy.fft as fft\n",
    "from skimage.measure import label\n",
    "import matplotlib.pyplot as plt\n",
    "from tifffile import imsave\n",
    "import scipy.ndimage as ndimage\n",
    "import matplotlib.colors as colors\n",
    "import matplotlib.patches as patches\n",
    "import colorcet as cc\n",
    "from cycler import cycler\n",
    "import os\n",
    "from scipy import interpolate, optimize\n",
    "from sklearn.decomposition import PCA\n",
    "from sklearn.preprocessing import StandardScaler\n",
    "import time\n",
    "import mat73\n",
    "import pandas as pd\n",
    "import parse\n",
    "from spikecounter.analysis import traces, images\n",
    "from spikecounter.ui import visualize, HyperStackViewer\n",
    "from spikecounter import utils\n",
    "from skimage import draw, morphology, transform, filters\n",
    "\n",
    "# plt.style.use(\"../bio_pubs_presentation.mplstyle\")\n",
    "ss = StandardScaler()"
   ]
  },
  {
   "cell_type": "code",
   "execution_count": null,
   "id": "f4b651b4",
   "metadata": {},
   "outputs": [],
   "source": [
    "rootdir = \"E:/Cohen_Lab/Data/test_locus_finding\"\n",
    "filename = \"091430E14_gcamp_fast\"\n",
    "crosstalk_channel = \"None\""
   ]
  },
  {
   "cell_type": "markdown",
   "id": "471f8b42",
   "metadata": {},
   "source": [
    "## Convert to tif, downsample and denoise"
   ]
  },
  {
   "cell_type": "code",
   "execution_count": null,
   "id": "6f22d66c",
   "metadata": {},
   "outputs": [],
   "source": [
    "!matlab -nojvm -nosplash -nodesktop -r \"addpath(genpath('Y:\\Lab\\Computer Code\\2020RigControl'));addpath(genpath('Y:\\Lab\\Computer Code\\Image Processing'));batch_vm_to_tiff2('{rootdir}/{filename}','{rootdir}', 1, 1);\""
   ]
  },
  {
   "cell_type": "code",
   "execution_count": null,
   "id": "d00a7736",
   "metadata": {
    "scrolled": true
   },
   "outputs": [],
   "source": [
    "!python preprocess_stim_experiment2.py {rootdir} {filename} {crosstalk_channel} --n_pcs 30 --remove_from_start 0 --remove_from_end 0 --scale_factor 4 --skewness_threshold 0"
   ]
  },
  {
   "cell_type": "markdown",
   "id": "78f26e4d",
   "metadata": {},
   "source": [
    "## Load image"
   ]
  },
  {
   "cell_type": "code",
   "execution_count": null,
   "id": "c969a0e3",
   "metadata": {},
   "outputs": [],
   "source": [
    "def image_to_sta(raw_img, fs=1, mask=None, plot=False, \\\n",
    "                 savedir=None, prom_pct=90, sta_bounds=\"auto\", \\\n",
    "                 exclude_pks = None, offset=0, full_output=False):\n",
    "    \"\"\" Convert raw image into spike triggered average\n",
    "    \"\"\"\n",
    "    if savedir is not None:\n",
    "        os.makedirs(savedir, exist_ok=True)\n",
    "\n",
    "    if plot:\n",
    "        fig1, axes = plt.subplots(2,2, figsize=(10,10))\n",
    "        axes = axes.ravel()\n",
    "\n",
    "    # Generate mask if not provided\n",
    "    mean_img = raw_img.mean(axis=0)\n",
    "    if mask is None:\n",
    "        mask = mean_img > np.percentile(mean_img, 80)\n",
    "        kernel_size = int(mask.shape[0]/50)\n",
    "        mask = morphology.binary_closing(mask, selem=np.ones((kernel_size, kernel_size)))\n",
    "    _ = visualize.display_roi_overlay(mean_img, mask.astype(int), ax=axes[0])\n",
    "    \n",
    "    raw_trace = images.image_to_trace(raw_img, np.tile(mask, (raw_img.shape[0], 1, 1)))\n",
    "    \n",
    "    # convert to DF/F\n",
    "    \n",
    "    dFF_img = images.get_image_dFF(raw_img)\n",
    "    \n",
    "    if savedir:\n",
    "        skio.imsave(os.path.join(savedir, \"dFF.tif\"), dFF_img)\n",
    "\n",
    "    dFF_mean = images.image_to_trace(dFF_img, mask=np.tile(mask, (dFF_img.shape[0], 1, 1)))\n",
    "\n",
    "    # Identify spikes\n",
    "    ps = np.percentile(dFF_mean,[10,prom_pct])\n",
    "    prominence = ps[1] - ps[0]\n",
    "    pks, _ = signal.find_peaks(dFF_mean, prominence=prominence)\n",
    "    \n",
    "    if exclude_pks:\n",
    "        keep = np.ones(len(pks))\n",
    "        keep[exclude_pks] = 0\n",
    "        pks = pks[keep]\n",
    "\n",
    "    if plot:\n",
    "        axes[1].plot(np.arange(dFF_img.shape[0])/fs, dFF_mean)\n",
    "        axes[1].plot(pks/fs, dFF_mean[pks], \"rx\")\n",
    "        axes[1].set_xlabel(\"Time (s)\")\n",
    "        axes[1].set_ylabel(r\"$F/F_0$\")\n",
    "        tx = axes[1].twinx()\n",
    "        tx.plot(np.arange(dFF_img.shape[0])/fs, raw_trace, color=\"C1\")\n",
    "        tx.set_ylabel(\"Mean counts\")\n",
    "\n",
    "    # Automatically determine bounds for spike-triggered average\n",
    "    if sta_bounds == \"auto\":\n",
    "        try:\n",
    "        # Align all detected peaks of the full trace and take the mean\n",
    "            aligned_traces = traces.align_fixed_offset(np.tile(dFF_mean, (len(pks), 1)), pks)\n",
    "        except Exception as e:\n",
    "            print(e)\n",
    "            return raw_trace\n",
    "        mean_trace = np.nanmean(aligned_traces, axis=0)\n",
    "        # Smooth\n",
    "        spl = interpolate.UnivariateSpline(np.arange(len(mean_trace)), \\\n",
    "                                np.nan_to_num(mean_trace, nan=np.nanmin(mean_trace)), s=0.001)\n",
    "        smoothed = spl(np.arange(len(mean_trace)))\n",
    "        smoothed_dfdt = spl.derivative()(np.arange(len(mean_trace)))   \n",
    "        # Find the first minimum before and the first minimum after the real spike-triggered peak\n",
    "        if plot:\n",
    "            axes[3].plot(mean_trace)\n",
    "            axes[3].plot(smoothed, color=\"C1\")\n",
    "            tx = axes[3].twinx()\n",
    "            tx.plot(smoothed_dfdt, color=\"C2\")\n",
    "            tx.ticklabel_format(axis='y', style='sci', scilimits=(0,0))\n",
    "        try:\n",
    "            minima_left = np.argwhere((smoothed_dfdt < 0)).ravel()\n",
    "            minima_right = np.argwhere((smoothed_dfdt > 0)).ravel()\n",
    "            # calculate number of samples to take before and after the peak\n",
    "            b1 = pks[-1] - minima_left[minima_left<pks[-1]][-1]+offset\n",
    "            b2 = minima_right[minima_right > pks[-1]][0] - pks[-1]+offset\n",
    "        except Exception:\n",
    "            return mean_trace\n",
    "        \n",
    "        if plot:\n",
    "            axes[3].plot([pks[-1]-b1, pks[-1], pks[-1]+b2], mean_trace[[pks[-1]-b1, pks[-1], pks[-1]+b2]], \"rx\")\n",
    "        \n",
    "\n",
    "\n",
    "    # Collect spike traces according to bounds\n",
    "    spike_traces = np.nan*np.ones((len(pks), b1+b2))\n",
    "    spike_images = np.nan*np.ones((len(pks), b1+b2, dFF_img.shape[1], dFF_img.shape[2]))\n",
    "    print(b1,b2)\n",
    "    for idx, pk in enumerate(pks):\n",
    "        n_prepend = max(0, b1-pk)\n",
    "        n_append = max(0, pk+b2-len(dFF_mean))\n",
    "\n",
    "        mean_block = np.concatenate([np.ones(n_prepend)*np.nan, dFF_mean[max(0, pk-b1):min(len(dFF_mean), pk+b2)], np.ones(n_append)*np.nan])\n",
    "        img_block = np.concatenate([np.ones((n_prepend, dFF_img.shape[1], dFF_img.shape[2]))*np.nan, \\\n",
    "                                    dFF_img[max(0, pk-b1):min(len(dFF_mean), pk+b2),:,:], np.ones((n_append, dFF_img.shape[1], dFF_img.shape[2]))*np.nan])\n",
    "        \n",
    "        spike_traces[idx,:] = mean_block\n",
    "        spike_images[idx,:,:] = img_block\n",
    "    \n",
    "    sta_trace = np.nanmean(spike_traces, axis=0)\n",
    "    sta = np.nanmean(spike_images, axis=0)\n",
    "\n",
    "    if plot:\n",
    "        axes[2].plot(np.arange(b1+b2)/fs, sta_trace)\n",
    "        axes[2].set_xlabel(\"Time (s)\")\n",
    "        axes[2].set_ylabel(r\"$F/F_0$\")\n",
    "        axes[2].set_title(\"STA taps: %d + %d\" % (b1,b2))\n",
    "        plt.tight_layout()\n",
    "    if savedir:\n",
    "        skio.imsave(os.path.join(savedir, \"sta.tif\"), sta)\n",
    "        if plot:\n",
    "            plt.savefig(os.path.join(savedir, \"QA_plots.tif\"))\n",
    "    if full_output:\n",
    "        return sta, spike_images\n",
    "    return sta"
   ]
  },
  {
   "cell_type": "code",
   "execution_count": null,
   "id": "2173edd3",
   "metadata": {},
   "outputs": [],
   "source": [
    "print(filename)\n",
    "img, expt_data = images.load_image(rootdir, filename, subfolder=\"denoised\")\n",
    "print(img.shape)"
   ]
  },
  {
   "cell_type": "code",
   "execution_count": null,
   "id": "c06ce311",
   "metadata": {},
   "outputs": [],
   "source": [
    "dt_dict, dt = utils.traces_to_dict(expt_data)"
   ]
  },
  {
   "cell_type": "code",
   "execution_count": null,
   "id": "d3735da7",
   "metadata": {},
   "outputs": [],
   "source": [
    "sta, spike_images = image_to_sta(img, fs=1/dt, plot=True, prom_pct=90, \\\n",
    "                   savedir=os.path.join(rootdir, \"analysis\", filename), offset=120, full_output=True)"
   ]
  },
  {
   "cell_type": "code",
   "execution_count": null,
   "id": "15cb2b4b",
   "metadata": {},
   "outputs": [],
   "source": [
    "utils.display_zstack(sta[:,:,:, np.newaxis], c=0, pct_cutoffs=[5,99])"
   ]
  },
  {
   "cell_type": "code",
   "execution_count": null,
   "id": "2649c03c",
   "metadata": {},
   "outputs": [],
   "source": [
    "beta, smoothed_vid = images.spline_timing(sta, s=0.05, n_knots=15)"
   ]
  },
  {
   "cell_type": "code",
   "execution_count": null,
   "id": "ab4863c7-77d1-42b6-aecb-634f5ae20fa1",
   "metadata": {},
   "outputs": [],
   "source": [
    "os.makedirs(os.path.join(rootdir, \"analysis\", filename, \"individual_spikes\"), exist_ok=True)\n",
    "skio.imsave(os.path.join(rootdir, \"analysis\", filename, \"spline_smoothed_vid.tif\"), smoothed_vid)\n",
    "np.savez(os.path.join(rootdir, \"analysis\", \"%s_snapt_denoised.npz\") % filename,\\\n",
    "         beta=beta)"
   ]
  },
  {
   "cell_type": "code",
   "execution_count": null,
   "id": "7b57faaf",
   "metadata": {},
   "outputs": [],
   "source": [
    "amplitude = beta[2,:,:]\n",
    "amplitude_nanr = np.copy(amplitude)\n",
    "minval = np.nanmin(amplitude)\n",
    "amplitude_nanr[np.isnan(amplitude)] = minval\n",
    "thresh = np.percentile(amplitude_nanr,40)\n",
    "# thresh = filters.threshold_otsu(amplitude_nanr)\n",
    "mask = amplitude_nanr>thresh\n",
    "mask = morphology.binary_opening(mask, selem=morphology.disk(2))\n",
    "mask = morphology.binary_closing(mask, selem=morphology.disk(2))\n",
    "plt.imshow(mask)"
   ]
  },
  {
   "cell_type": "code",
   "execution_count": null,
   "id": "e15b2766",
   "metadata": {},
   "outputs": [],
   "source": [
    "fig1, ax1 = plt.subplots(figsize=(4,4))\n",
    "hm = beta[1,:,:]\n",
    "hm_nan = np.copy(hm)\n",
    "hm_nan[~mask] = np.nan\n",
    "hm_nan = hm_nan-np.nanmin(hm_nan)\n",
    "im = ax1.imshow(hm_nan, vmin=np.percentile(hm_nan[~np.isnan(hm_nan)],1), \\\n",
    "               vmax=np.percentile(hm_nan[~np.isnan(hm_nan)],99))\n",
    "plt.colorbar(im, ax=ax1)"
   ]
  },
  {
   "cell_type": "code",
   "execution_count": null,
   "id": "ef2f337e",
   "metadata": {},
   "outputs": [],
   "source": [
    "%matplotlib notebook\n",
    "plt.close(\"all\")\n",
    "idx = 4\n",
    "beta = np.load(files[idx])[\"beta\"]\n",
    "print(beta.shape)\n",
    "amplitude = beta[2,:,:]\n",
    "amplitude[np.isnan(amplitude)] = 0\n",
    "p5, p95 = np.percentile(amplitude,[5,95])\n",
    "amplitude[amplitude > p95] = p95\n",
    "amplitude[amplitude < p5] = p5\n",
    "#         mask = np.ones_like(amplitude, dtype=bool)\n",
    "#         mask = amplitude > np.percentile(amplitude, 80)\n",
    "#         mask = morphology.binary_opening(mask, np.ones((3,3)))\n",
    "#         mask = morphology.binary_dilation(mask, np.ones((20,20)))\n",
    "#         hm_time = beta[1,:,:]/fs\n",
    "#         hm_time[~mask] = np.nan\n",
    "h = HyperStackViewer(amplitude, width=6, height=6)\n",
    "mask = h.select_region_clicky()"
   ]
  },
  {
   "cell_type": "code",
   "execution_count": null,
   "id": "fbc63590",
   "metadata": {},
   "outputs": [],
   "source": [
    "new_mask = h._points_to_mask(h.points, propagate_z=True).squeeze()"
   ]
  },
  {
   "cell_type": "code",
   "execution_count": null,
   "id": "e7653956-6763-4bdd-abe8-271955922f9f",
   "metadata": {},
   "outputs": [],
   "source": [
    "%matplotlib inline\n",
    "plt.close('all')\n",
    "sigma = 1\n",
    "\n",
    "amplitude[np.isnan(amplitude)] = 0\n",
    "hm_time = beta[1,:,:]*dt\n",
    "hm_time_old = np.copy(hm_time)\n",
    "hm_time[~mask] = np.nan\n",
    "\n",
    "pmin, pmax = np.percentile(hm_time[~np.isnan(hm_time)],[0.5, 95])\n",
    "hm_time[hm_time < pmin] = pmin\n",
    "hm_time[hm_time > pmax] = pmax\n",
    "hm_time = hm_time-np.min(hm_time[~np.isnan(hm_time)])\n",
    "\n",
    "hm_time_smoothed = np.copy(hm_time)\n",
    "hm_time_smoothed[np.isnan(hm_time_smoothed)] = pmax\n",
    "hm_time_smoothed = ndimage.gaussian_filter(hm_time_smoothed, sigma)\n",
    "try:\n",
    "    focus_mask = hm_time_smoothed < np.percentile(hm_time_smoothed, 10)\n",
    "    labels, num = label(focus_mask, return_num=True)\n",
    "    region_sizes = [np.sum(1/(hm_time_smoothed[labels==i]+0.01)) for i in np.arange(1, num+1)]\n",
    "    single_region_mask = labels == (np.argmax(region_sizes)+1)\n",
    "    masked_hm_time = np.ma.masked_array(hm_time_smoothed, ~single_region_mask)\n",
    "    min_index = np.unravel_index(np.ma.argmin(masked_hm_time), hm_time.shape)\n",
    "except Exception as e:\n",
    "    print(e)\n",
    "    min_index = [np.nan, np.nan]\n",
    "\n",
    "fig1, axes = plt.subplots(1,2, figsize=(12,6))\n",
    "axes = axes.ravel()\n",
    "im = axes[0].imshow(hm_time*1000, alpha=0.3)\n",
    "axes[0].imshow(np.ma.masked_array(focus_mask, ~focus_mask), alpha=0.3, cmap=\"Blues\")\n",
    "plt.colorbar(im, label=\"ms\", aspect=15, shrink=0.75)\n",
    "#         freq = n_peaks_by_embryo[e][mask_idx]/30\n",
    "axes[1].imshow(hm_time_smoothed)\n",
    "#         im = axes.contour(np.flipud(hm_time)*1000)\n",
    "axes[1].plot(min_index[1], min_index[0], \"wx\")"
   ]
  },
  {
   "cell_type": "markdown",
   "id": "84707374-e6cd-458e-a7b6-24fd94861634",
   "metadata": {},
   "source": [
    "### Draw mask targeting initiation site"
   ]
  },
  {
   "cell_type": "code",
   "execution_count": null,
   "id": "bfbecd76",
   "metadata": {},
   "outputs": [],
   "source": [
    "hm_time_smoothed.shape[0]*4+ offset[0]*2"
   ]
  },
  {
   "cell_type": "code",
   "execution_count": null,
   "id": "66bf8a0d-ddfe-452b-ac00-d9760b014027",
   "metadata": {},
   "outputs": [],
   "source": [
    "nrows = 2048\n",
    "ncols = 2048\n",
    "radius = 20\n",
    "\n",
    "target_mask = np.zeros((nrows, ncols), dtype=bool)\n",
    "offset = [(nrows - hm_time_smoothed.shape[0]*4)//2, \\\n",
    "          (ncols - hm_time_smoothed.shape[1]*4)//2]\n",
    "rr, cc = draw.disk((offset[0] + min_index[0]*4, offset[1] + min_index[1]*4), radius)\n",
    "target_mask[rr,cc] = True\n",
    "\n",
    "fig1, ax1 = plt.subplots(figsize=(4,4))\n",
    "ax1.imshow(target_mask)"
   ]
  },
  {
   "cell_type": "code",
   "execution_count": null,
   "id": "9679d569-5a41-4185-9fc6-5340eef13c92",
   "metadata": {},
   "outputs": [],
   "source": [
    "skio.imsave(os.path.join(rootdir, \"analysis\", filename, \"%s_locus_target.tif\" % filename), target_mask)\n",
    "skio.imsave(os.path.join(rootdir, \"Snaps\", \"%s_locus_target.tiff\" % filename), target_mask)"
   ]
  },
  {
   "cell_type": "code",
   "execution_count": null,
   "id": "445eecc9",
   "metadata": {},
   "outputs": [],
   "source": []
  }
 ],
 "metadata": {
  "kernelspec": {
   "display_name": "Python 3 (ipykernel)",
   "language": "python",
   "name": "python3"
  },
  "language_info": {
   "codemirror_mode": {
    "name": "ipython",
    "version": 3
   },
   "file_extension": ".py",
   "mimetype": "text/x-python",
   "name": "python",
   "nbconvert_exporter": "python",
   "pygments_lexer": "ipython3",
   "version": "3.9.10"
  }
 },
 "nbformat": 4,
 "nbformat_minor": 5
}
